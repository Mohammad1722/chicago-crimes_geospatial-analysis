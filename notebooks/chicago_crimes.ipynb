{
 "cells": [
  {
   "cell_type": "markdown",
   "metadata": {},
   "source": [
    "# Data Analysis on Chicago Crimes Dataset\n",
    "\n",
    "First things first, we import all the modules that we are going to use."
   ]
  },
  {
   "cell_type": "code",
   "execution_count": 1,
   "metadata": {},
   "outputs": [],
   "source": [
    "import numpy as np\n",
    "import pandas as pd\n",
    "import geopandas\n",
    "import geoplot as gplt\n",
    "import geoplot.crs as gcrs\n",
    "import matplotlib.pyplot as plt\n",
    "\n",
    "%matplotlib inline"
   ]
  },
  {
   "cell_type": "markdown",
   "metadata": {},
   "source": [
    "Getting the number of lines in each dataset to get a sense of its size."
   ]
  },
  {
   "cell_type": "code",
   "execution_count": 2,
   "metadata": {},
   "outputs": [
    {
     "name": "stdout",
     "output_type": "stream",
     "text": [
      "Chicago Crimes dataset has 7,147,877 lines.\n",
      "ZCTA5 dataset has 33,144 lines.\n"
     ]
    }
   ],
   "source": [
    "import mmap\n",
    "\n",
    "def lines_mapcount(filename):\n",
    "    f = open(filename, \"r+\")\n",
    "    buf = mmap.mmap(f.fileno(), 0)\n",
    "    lines = 0\n",
    "    readline = buf.readline\n",
    "    while readline():\n",
    "        lines += 1\n",
    "    return lines\n",
    "\n",
    "print(f'Chicago Crimes dataset has {lines_mapcount(\"../data/chicagoCrimes/Chicago_Crimes.json\"):,} lines.')\n",
    "print(f'ZCTA5 dataset has {lines_mapcount(\"../data/zcta5/TIGER2018_ZCTA5.json\"):,} lines.')"
   ]
  },
  {
   "cell_type": "markdown",
   "metadata": {},
   "source": [
    "To load the dataset we can either load the csv file using [`read_csv`](https://pandas.pydata.org/docs/reference/api/pandas.read_csv.html) function, or we can load the JSON file using [`read_json`](https://pandas.pydata.org/docs/reference/api/pandas.read_json.html) function. The `read_json` function has 3 interesting arguments:\n",
    "* `lines` which must be set to True for our file as the dataset contains a json object per line.\n",
    "* `chunksize` which changes the behavior of `read_json` to return a chunk iterable instead of returning a dataframe containing all the data.\n",
    "* `nrows` which reads only the specified amount of lines instead of loading the whole file."
   ]
  },
  {
   "cell_type": "code",
   "execution_count": 3,
   "metadata": {},
   "outputs": [
    {
     "name": "stdout",
     "output_type": "stream",
     "text": [
      "Loading done!\n"
     ]
    }
   ],
   "source": [
    "# dfCrime = pd.read_json(\"../data/chicagoCrimes/Chicago_Crimes.json\", lines=True, nrows=1_000_000)\n",
    "dfCrime = pd.read_json(\"../data/chicagoCrimes/Chicago_Crimes.json\", lines=True, nrows=200_000)\n",
    "# chunkReader = pd.read_json(\"../data/Chicago_Crimes.json\", lines=True, chunksize=500_000)\n",
    "print(\"Loading done!\")"
   ]
  },
  {
   "cell_type": "markdown",
   "metadata": {},
   "source": [
    "Here we take a look on the first 5 rows of the dataset."
   ]
  },
  {
   "cell_type": "code",
   "execution_count": 4,
   "metadata": {},
   "outputs": [
    {
     "data": {
      "text/html": [
       "<div>\n",
       "<style scoped>\n",
       "    .dataframe tbody tr th:only-of-type {\n",
       "        vertical-align: middle;\n",
       "    }\n",
       "\n",
       "    .dataframe tbody tr th {\n",
       "        vertical-align: top;\n",
       "    }\n",
       "\n",
       "    .dataframe thead th {\n",
       "        text-align: right;\n",
       "    }\n",
       "</style>\n",
       "<table border=\"1\" class=\"dataframe\">\n",
       "  <thead>\n",
       "    <tr style=\"text-align: right;\">\n",
       "      <th></th>\n",
       "      <th>g</th>\n",
       "      <th>ID</th>\n",
       "      <th>Case Number</th>\n",
       "      <th>Date</th>\n",
       "      <th>Block</th>\n",
       "      <th>IUCR</th>\n",
       "      <th>Primary Type</th>\n",
       "      <th>Description</th>\n",
       "      <th>Location Description</th>\n",
       "      <th>Arrest</th>\n",
       "      <th>Domestic</th>\n",
       "      <th>Beat</th>\n",
       "      <th>District</th>\n",
       "      <th>Ward</th>\n",
       "      <th>Community Area</th>\n",
       "      <th>FBI Code</th>\n",
       "      <th>X Coordinate</th>\n",
       "      <th>Y Coordinate</th>\n",
       "      <th>Year</th>\n",
       "      <th>Updated On</th>\n",
       "    </tr>\n",
       "  </thead>\n",
       "  <tbody>\n",
       "    <tr>\n",
       "      <th>0</th>\n",
       "      <td>POINT (-87.679199169 41.969248155)</td>\n",
       "      <td>9799787</td>\n",
       "      <td>HX448932</td>\n",
       "      <td>2014-09-30 01:05:00</td>\n",
       "      <td>048XX N DAMEN AVE</td>\n",
       "      <td>1360</td>\n",
       "      <td>CRIMINAL TRESPASS</td>\n",
       "      <td>TO VEHICLE</td>\n",
       "      <td>STREET</td>\n",
       "      <td>true</td>\n",
       "      <td>false</td>\n",
       "      <td>2032</td>\n",
       "      <td>20.0</td>\n",
       "      <td>47.0</td>\n",
       "      <td>4.0</td>\n",
       "      <td>26</td>\n",
       "      <td>1162138.0</td>\n",
       "      <td>1932063.0</td>\n",
       "      <td>2014</td>\n",
       "      <td>02/10/2018 03:50:01 PM</td>\n",
       "    </tr>\n",
       "    <tr>\n",
       "      <th>1</th>\n",
       "      <td>POINT (-87.679202284 41.969303057)</td>\n",
       "      <td>9933145</td>\n",
       "      <td>HY122183</td>\n",
       "      <td>2015-01-20 15:30:00</td>\n",
       "      <td>048XX N DAMEN AVE</td>\n",
       "      <td>1310</td>\n",
       "      <td>CRIMINAL DAMAGE</td>\n",
       "      <td>TO PROPERTY</td>\n",
       "      <td>SMALL RETAIL STORE</td>\n",
       "      <td>false</td>\n",
       "      <td>false</td>\n",
       "      <td>2032</td>\n",
       "      <td>20.0</td>\n",
       "      <td>47.0</td>\n",
       "      <td>4.0</td>\n",
       "      <td>14</td>\n",
       "      <td>1162137.0</td>\n",
       "      <td>1932083.0</td>\n",
       "      <td>2015</td>\n",
       "      <td>02/10/2018 03:50:01 PM</td>\n",
       "    </tr>\n",
       "    <tr>\n",
       "      <th>2</th>\n",
       "      <td>POINT (-87.677718626 41.969472967)</td>\n",
       "      <td>9936081</td>\n",
       "      <td>HY124430</td>\n",
       "      <td>2015-01-21 11:00:00</td>\n",
       "      <td>048XX N WINCHESTER AVE</td>\n",
       "      <td>1310</td>\n",
       "      <td>CRIMINAL DAMAGE</td>\n",
       "      <td>TO PROPERTY</td>\n",
       "      <td>APARTMENT</td>\n",
       "      <td>false</td>\n",
       "      <td>false</td>\n",
       "      <td>2032</td>\n",
       "      <td>20.0</td>\n",
       "      <td>47.0</td>\n",
       "      <td>4.0</td>\n",
       "      <td>14</td>\n",
       "      <td>1162540.0</td>\n",
       "      <td>1932148.0</td>\n",
       "      <td>2015</td>\n",
       "      <td>02/10/2018 03:50:01 PM</td>\n",
       "    </tr>\n",
       "    <tr>\n",
       "      <th>3</th>\n",
       "      <td>POINT (-87.677718626 41.969472967)</td>\n",
       "      <td>9833072</td>\n",
       "      <td>HX483126</td>\n",
       "      <td>2014-10-25 12:00:00</td>\n",
       "      <td>048XX N WINCHESTER AVE</td>\n",
       "      <td>1320</td>\n",
       "      <td>CRIMINAL DAMAGE</td>\n",
       "      <td>TO VEHICLE</td>\n",
       "      <td>APARTMENT</td>\n",
       "      <td>false</td>\n",
       "      <td>false</td>\n",
       "      <td>2032</td>\n",
       "      <td>20.0</td>\n",
       "      <td>47.0</td>\n",
       "      <td>4.0</td>\n",
       "      <td>14</td>\n",
       "      <td>1162540.0</td>\n",
       "      <td>1932148.0</td>\n",
       "      <td>2014</td>\n",
       "      <td>02/10/2018 03:50:01 PM</td>\n",
       "    </tr>\n",
       "    <tr>\n",
       "      <th>4</th>\n",
       "      <td>POINT (-87.677718429 41.969492175)</td>\n",
       "      <td>9822109</td>\n",
       "      <td>HX471722</td>\n",
       "      <td>2014-10-17 08:30:00</td>\n",
       "      <td>048XX N WINCHESTER AVE</td>\n",
       "      <td>0820</td>\n",
       "      <td>THEFT</td>\n",
       "      <td>$500 AND UNDER</td>\n",
       "      <td>RESIDENTIAL YARD (FRONT/BACK)</td>\n",
       "      <td>false</td>\n",
       "      <td>false</td>\n",
       "      <td>2032</td>\n",
       "      <td>20.0</td>\n",
       "      <td>47.0</td>\n",
       "      <td>4.0</td>\n",
       "      <td>06</td>\n",
       "      <td>1162540.0</td>\n",
       "      <td>1932155.0</td>\n",
       "      <td>2014</td>\n",
       "      <td>02/10/2018 03:50:01 PM</td>\n",
       "    </tr>\n",
       "  </tbody>\n",
       "</table>\n",
       "</div>"
      ],
      "text/plain": [
       "                                    g       ID Case Number  \\\n",
       "0  POINT (-87.679199169 41.969248155)  9799787    HX448932   \n",
       "1  POINT (-87.679202284 41.969303057)  9933145    HY122183   \n",
       "2  POINT (-87.677718626 41.969472967)  9936081    HY124430   \n",
       "3  POINT (-87.677718626 41.969472967)  9833072    HX483126   \n",
       "4  POINT (-87.677718429 41.969492175)  9822109    HX471722   \n",
       "\n",
       "                 Date                   Block  IUCR       Primary Type  \\\n",
       "0 2014-09-30 01:05:00       048XX N DAMEN AVE  1360  CRIMINAL TRESPASS   \n",
       "1 2015-01-20 15:30:00       048XX N DAMEN AVE  1310    CRIMINAL DAMAGE   \n",
       "2 2015-01-21 11:00:00  048XX N WINCHESTER AVE  1310    CRIMINAL DAMAGE   \n",
       "3 2014-10-25 12:00:00  048XX N WINCHESTER AVE  1320    CRIMINAL DAMAGE   \n",
       "4 2014-10-17 08:30:00  048XX N WINCHESTER AVE  0820              THEFT   \n",
       "\n",
       "      Description           Location Description Arrest Domestic  Beat  \\\n",
       "0      TO VEHICLE                         STREET   true    false  2032   \n",
       "1     TO PROPERTY             SMALL RETAIL STORE  false    false  2032   \n",
       "2     TO PROPERTY                      APARTMENT  false    false  2032   \n",
       "3      TO VEHICLE                      APARTMENT  false    false  2032   \n",
       "4  $500 AND UNDER  RESIDENTIAL YARD (FRONT/BACK)  false    false  2032   \n",
       "\n",
       "   District  Ward  Community Area FBI Code  X Coordinate  Y Coordinate  Year  \\\n",
       "0      20.0  47.0             4.0       26     1162138.0     1932063.0  2014   \n",
       "1      20.0  47.0             4.0       14     1162137.0     1932083.0  2015   \n",
       "2      20.0  47.0             4.0       14     1162540.0     1932148.0  2015   \n",
       "3      20.0  47.0             4.0       14     1162540.0     1932148.0  2014   \n",
       "4      20.0  47.0             4.0       06     1162540.0     1932155.0  2014   \n",
       "\n",
       "               Updated On  \n",
       "0  02/10/2018 03:50:01 PM  \n",
       "1  02/10/2018 03:50:01 PM  \n",
       "2  02/10/2018 03:50:01 PM  \n",
       "3  02/10/2018 03:50:01 PM  \n",
       "4  02/10/2018 03:50:01 PM  "
      ]
     },
     "execution_count": 4,
     "metadata": {},
     "output_type": "execute_result"
    }
   ],
   "source": [
    "dfCrime.head()"
   ]
  },
  {
   "cell_type": "markdown",
   "metadata": {},
   "source": [
    "Then we get general info of each column; like, the datatype, abd the non-null values count."
   ]
  },
  {
   "cell_type": "code",
   "execution_count": 5,
   "metadata": {},
   "outputs": [
    {
     "name": "stdout",
     "output_type": "stream",
     "text": [
      "<class 'pandas.core.frame.DataFrame'>\n",
      "RangeIndex: 200000 entries, 0 to 199999\n",
      "Data columns (total 20 columns):\n",
      " #   Column                Non-Null Count   Dtype         \n",
      "---  ------                --------------   -----         \n",
      " 0   g                     200000 non-null  object        \n",
      " 1   ID                    200000 non-null  int64         \n",
      " 2   Case Number           200000 non-null  object        \n",
      " 3   Date                  200000 non-null  datetime64[ns]\n",
      " 4   Block                 200000 non-null  object        \n",
      " 5   IUCR                  200000 non-null  object        \n",
      " 6   Primary Type          200000 non-null  object        \n",
      " 7   Description           200000 non-null  object        \n",
      " 8   Location Description  199761 non-null  object        \n",
      " 9   Arrest                200000 non-null  object        \n",
      " 10  Domestic              200000 non-null  object        \n",
      " 11  Beat                  200000 non-null  int64         \n",
      " 12  District              199997 non-null  float64       \n",
      " 13  Ward                  181820 non-null  float64       \n",
      " 14  Community Area        181811 non-null  float64       \n",
      " 15  FBI Code              200000 non-null  object        \n",
      " 16  X Coordinate          199999 non-null  float64       \n",
      " 17  Y Coordinate          199999 non-null  float64       \n",
      " 18  Year                  200000 non-null  int64         \n",
      " 19  Updated On            200000 non-null  object        \n",
      "dtypes: datetime64[ns](1), float64(5), int64(3), object(11)\n",
      "memory usage: 158.9 MB\n"
     ]
    }
   ],
   "source": [
    "dfCrime.info(memory_usage=\"deep\")"
   ]
  },
  {
   "cell_type": "markdown",
   "metadata": {},
   "source": [
    "Then a quick descriptive statistics summary of each numeric columns."
   ]
  },
  {
   "cell_type": "code",
   "execution_count": 6,
   "metadata": {},
   "outputs": [
    {
     "data": {
      "text/html": [
       "<div>\n",
       "<style scoped>\n",
       "    .dataframe tbody tr th:only-of-type {\n",
       "        vertical-align: middle;\n",
       "    }\n",
       "\n",
       "    .dataframe tbody tr th {\n",
       "        vertical-align: top;\n",
       "    }\n",
       "\n",
       "    .dataframe thead th {\n",
       "        text-align: right;\n",
       "    }\n",
       "</style>\n",
       "<table border=\"1\" class=\"dataframe\">\n",
       "  <thead>\n",
       "    <tr style=\"text-align: right;\">\n",
       "      <th></th>\n",
       "      <th>ID</th>\n",
       "      <th>Beat</th>\n",
       "      <th>District</th>\n",
       "      <th>Ward</th>\n",
       "      <th>Community Area</th>\n",
       "      <th>X Coordinate</th>\n",
       "      <th>Y Coordinate</th>\n",
       "      <th>Year</th>\n",
       "    </tr>\n",
       "  </thead>\n",
       "  <tbody>\n",
       "    <tr>\n",
       "      <th>count</th>\n",
       "      <td>2.000000e+05</td>\n",
       "      <td>200000.000000</td>\n",
       "      <td>199997.000000</td>\n",
       "      <td>181820.000000</td>\n",
       "      <td>181811.000000</td>\n",
       "      <td>1.999990e+05</td>\n",
       "      <td>1.999990e+05</td>\n",
       "      <td>200000.000000</td>\n",
       "    </tr>\n",
       "    <tr>\n",
       "      <th>mean</th>\n",
       "      <td>7.205894e+06</td>\n",
       "      <td>1530.168810</td>\n",
       "      <td>15.056851</td>\n",
       "      <td>23.658096</td>\n",
       "      <td>18.370280</td>\n",
       "      <td>1.164418e+06</td>\n",
       "      <td>1.912548e+06</td>\n",
       "      <td>2009.975290</td>\n",
       "    </tr>\n",
       "    <tr>\n",
       "      <th>std</th>\n",
       "      <td>3.228869e+06</td>\n",
       "      <td>459.973548</td>\n",
       "      <td>4.608722</td>\n",
       "      <td>17.189543</td>\n",
       "      <td>13.464394</td>\n",
       "      <td>5.604740e+03</td>\n",
       "      <td>1.259359e+04</td>\n",
       "      <td>5.395777</td>\n",
       "    </tr>\n",
       "    <tr>\n",
       "      <th>min</th>\n",
       "      <td>7.300000e+02</td>\n",
       "      <td>111.000000</td>\n",
       "      <td>1.000000</td>\n",
       "      <td>1.000000</td>\n",
       "      <td>1.000000</td>\n",
       "      <td>1.157081e+06</td>\n",
       "      <td>1.868834e+06</td>\n",
       "      <td>2001.000000</td>\n",
       "    </tr>\n",
       "    <tr>\n",
       "      <th>25%</th>\n",
       "      <td>4.574139e+06</td>\n",
       "      <td>1431.000000</td>\n",
       "      <td>14.000000</td>\n",
       "      <td>1.000000</td>\n",
       "      <td>7.000000</td>\n",
       "      <td>1.160308e+06</td>\n",
       "      <td>1.910739e+06</td>\n",
       "      <td>2006.000000</td>\n",
       "    </tr>\n",
       "    <tr>\n",
       "      <th>50%</th>\n",
       "      <td>8.127437e+06</td>\n",
       "      <td>1434.000000</td>\n",
       "      <td>14.000000</td>\n",
       "      <td>32.000000</td>\n",
       "      <td>22.000000</td>\n",
       "      <td>1.162964e+06</td>\n",
       "      <td>1.914009e+06</td>\n",
       "      <td>2011.000000</td>\n",
       "    </tr>\n",
       "    <tr>\n",
       "      <th>75%</th>\n",
       "      <td>9.862940e+06</td>\n",
       "      <td>1913.000000</td>\n",
       "      <td>19.000000</td>\n",
       "      <td>32.000000</td>\n",
       "      <td>24.000000</td>\n",
       "      <td>1.167214e+06</td>\n",
       "      <td>1.918307e+06</td>\n",
       "      <td>2014.000000</td>\n",
       "    </tr>\n",
       "    <tr>\n",
       "      <th>max</th>\n",
       "      <td>1.209464e+07</td>\n",
       "      <td>2433.000000</td>\n",
       "      <td>25.000000</td>\n",
       "      <td>50.000000</td>\n",
       "      <td>77.000000</td>\n",
       "      <td>1.189584e+06</td>\n",
       "      <td>1.951523e+06</td>\n",
       "      <td>2020.000000</td>\n",
       "    </tr>\n",
       "  </tbody>\n",
       "</table>\n",
       "</div>"
      ],
      "text/plain": [
       "                 ID           Beat       District           Ward  \\\n",
       "count  2.000000e+05  200000.000000  199997.000000  181820.000000   \n",
       "mean   7.205894e+06    1530.168810      15.056851      23.658096   \n",
       "std    3.228869e+06     459.973548       4.608722      17.189543   \n",
       "min    7.300000e+02     111.000000       1.000000       1.000000   \n",
       "25%    4.574139e+06    1431.000000      14.000000       1.000000   \n",
       "50%    8.127437e+06    1434.000000      14.000000      32.000000   \n",
       "75%    9.862940e+06    1913.000000      19.000000      32.000000   \n",
       "max    1.209464e+07    2433.000000      25.000000      50.000000   \n",
       "\n",
       "       Community Area  X Coordinate  Y Coordinate           Year  \n",
       "count   181811.000000  1.999990e+05  1.999990e+05  200000.000000  \n",
       "mean        18.370280  1.164418e+06  1.912548e+06    2009.975290  \n",
       "std         13.464394  5.604740e+03  1.259359e+04       5.395777  \n",
       "min          1.000000  1.157081e+06  1.868834e+06    2001.000000  \n",
       "25%          7.000000  1.160308e+06  1.910739e+06    2006.000000  \n",
       "50%         22.000000  1.162964e+06  1.914009e+06    2011.000000  \n",
       "75%         24.000000  1.167214e+06  1.918307e+06    2014.000000  \n",
       "max         77.000000  1.189584e+06  1.951523e+06    2020.000000  "
      ]
     },
     "execution_count": 6,
     "metadata": {},
     "output_type": "execute_result"
    }
   ],
   "source": [
    "dfCrime.describe()"
   ]
  },
  {
   "cell_type": "markdown",
   "metadata": {},
   "source": [
    "Then a quick overview of the number of unique values in each column."
   ]
  },
  {
   "cell_type": "code",
   "execution_count": 7,
   "metadata": {},
   "outputs": [
    {
     "data": {
      "text/plain": [
       "g                        52805\n",
       "ID                      200000\n",
       "Case Number             199999\n",
       "Date                    159217\n",
       "Block                     8910\n",
       "IUCR                       333\n",
       "Primary Type                33\n",
       "Description                349\n",
       "Location Description       123\n",
       "Arrest                       2\n",
       "Domestic                     2\n",
       "Beat                       119\n",
       "District                    14\n",
       "Ward                        28\n",
       "Community Area              36\n",
       "FBI Code                    26\n",
       "X Coordinate             18682\n",
       "Y Coordinate             29055\n",
       "Year                        20\n",
       "Updated On                1458\n",
       "dtype: int64"
      ]
     },
     "execution_count": 7,
     "metadata": {},
     "output_type": "execute_result"
    }
   ],
   "source": [
    "dfCrime.nunique()"
   ]
  },
  {
   "cell_type": "markdown",
   "metadata": {},
   "source": [
    "From the previous outputs we learn that some columns are irrelevant, so we will drop them in the following cell, as well as dropping the entries without X or Y Coordinates."
   ]
  },
  {
   "cell_type": "code",
   "execution_count": 8,
   "metadata": {},
   "outputs": [
    {
     "name": "stdout",
     "output_type": "stream",
     "text": [
      "<class 'pandas.core.frame.DataFrame'>\n",
      "Int64Index: 199999 entries, 0 to 199999\n",
      "Data columns (total 13 columns):\n",
      " #   Column                Non-Null Count   Dtype         \n",
      "---  ------                --------------   -----         \n",
      " 0   g                     199999 non-null  object        \n",
      " 1   ID                    199999 non-null  Int32         \n",
      " 2   Date                  199999 non-null  datetime64[ns]\n",
      " 3   Block                 199999 non-null  object        \n",
      " 4   Primary Type          199999 non-null  object        \n",
      " 5   Description           199999 non-null  object        \n",
      " 6   Location Description  199761 non-null  object        \n",
      " 7   Community Area        181810 non-null  Int8          \n",
      " 8   X Coordinate          199999 non-null  Int32         \n",
      " 9   Y Coordinate          199999 non-null  Int32         \n",
      " 10  Year                  199999 non-null  Int16         \n",
      " 11  Arrest_b              199999 non-null  bool          \n",
      " 12  Domestic_b            199999 non-null  bool          \n",
      "dtypes: Int16(1), Int32(3), Int8(1), bool(2), datetime64[ns](1), object(5)\n",
      "memory usage: 78.5 MB\n"
     ]
    }
   ],
   "source": [
    "dfCrime.drop(columns=[\"Beat\", \"District\", \"Ward\", \"Updated On\", \"FBI Code\", \"IUCR\", \"Case Number\"], inplace=True)\n",
    "dfCrime.dropna(subset=['X Coordinate', 'Y Coordinate'], inplace=True)\n",
    "dfCrime['Arrest_b'] = (dfCrime['Arrest'] == 'true') # convert str to bool\n",
    "dfCrime['Domestic_b'] = (dfCrime['Domestic'] == 'true')\n",
    "dfCrime.drop(columns=[\"Arrest\", \"Domestic\"], inplace=True)\n",
    "dfCrime['Community Area'] = dfCrime['Community Area'].astype('Int8')\n",
    "dfCrime['Year'] = dfCrime['Year'].astype('Int16')\n",
    "dfCrime[['ID', 'X Coordinate', 'Y Coordinate']] = dfCrime[['ID', 'X Coordinate', 'Y Coordinate']].astype('Int32')\n",
    "dfCrime.info(memory_usage='deep')"
   ]
  },
  {
   "cell_type": "markdown",
   "metadata": {},
   "source": [
    "Then we repeat the same steps for the second dataset.  \n",
    "First, we get an overview of the first 5 rows."
   ]
  },
  {
   "cell_type": "code",
   "execution_count": 9,
   "metadata": {},
   "outputs": [
    {
     "data": {
      "text/html": [
       "<div>\n",
       "<style scoped>\n",
       "    .dataframe tbody tr th:only-of-type {\n",
       "        vertical-align: middle;\n",
       "    }\n",
       "\n",
       "    .dataframe tbody tr th {\n",
       "        vertical-align: top;\n",
       "    }\n",
       "\n",
       "    .dataframe thead th {\n",
       "        text-align: right;\n",
       "    }\n",
       "</style>\n",
       "<table border=\"1\" class=\"dataframe\">\n",
       "  <thead>\n",
       "    <tr style=\"text-align: right;\">\n",
       "      <th></th>\n",
       "      <th>g</th>\n",
       "      <th>ZCTA5CE10</th>\n",
       "      <th>GEOID10</th>\n",
       "      <th>CLASSFP10</th>\n",
       "      <th>MTFCC10</th>\n",
       "      <th>FUNCSTAT10</th>\n",
       "      <th>ALAND10</th>\n",
       "      <th>AWATER10</th>\n",
       "      <th>INTPTLAT10</th>\n",
       "      <th>INTPTLON10</th>\n",
       "    </tr>\n",
       "  </thead>\n",
       "  <tbody>\n",
       "    <tr>\n",
       "      <th>0</th>\n",
       "      <td>POLYGON ((-66.260198 18.409546, -66.260052 18....</td>\n",
       "      <td>949</td>\n",
       "      <td>949</td>\n",
       "      <td>B5</td>\n",
       "      <td>G6350</td>\n",
       "      <td>S</td>\n",
       "      <td>45535083</td>\n",
       "      <td>2112066</td>\n",
       "      <td>18.430695</td>\n",
       "      <td>-66.212833</td>\n",
       "    </tr>\n",
       "    <tr>\n",
       "      <th>1</th>\n",
       "      <td>POLYGON ((-66.255686 18.471892, -66.255599 18....</td>\n",
       "      <td>950</td>\n",
       "      <td>950</td>\n",
       "      <td>B5</td>\n",
       "      <td>G6350</td>\n",
       "      <td>S</td>\n",
       "      <td>6204979</td>\n",
       "      <td>1989343</td>\n",
       "      <td>18.459699</td>\n",
       "      <td>-66.233101</td>\n",
       "    </tr>\n",
       "    <tr>\n",
       "      <th>2</th>\n",
       "      <td>POLYGON ((-66.24453199999999 17.975313, -66.24...</td>\n",
       "      <td>704</td>\n",
       "      <td>704</td>\n",
       "      <td>B5</td>\n",
       "      <td>G6350</td>\n",
       "      <td>S</td>\n",
       "      <td>12633150</td>\n",
       "      <td>1768450</td>\n",
       "      <td>17.965770</td>\n",
       "      <td>-66.219555</td>\n",
       "    </tr>\n",
       "    <tr>\n",
       "      <th>3</th>\n",
       "      <td>POLYGON ((-66.243315 18.181285, -66.243297 18....</td>\n",
       "      <td>739</td>\n",
       "      <td>739</td>\n",
       "      <td>B5</td>\n",
       "      <td>G6350</td>\n",
       "      <td>S</td>\n",
       "      <td>81792963</td>\n",
       "      <td>1113757</td>\n",
       "      <td>18.177233</td>\n",
       "      <td>-66.160645</td>\n",
       "    </tr>\n",
       "    <tr>\n",
       "      <th>4</th>\n",
       "      <td>POLYGON ((-66.234476 18.159904, -66.234458 18....</td>\n",
       "      <td>786</td>\n",
       "      <td>786</td>\n",
       "      <td>B5</td>\n",
       "      <td>G6350</td>\n",
       "      <td>S</td>\n",
       "      <td>666251</td>\n",
       "      <td>0</td>\n",
       "      <td>18.155424</td>\n",
       "      <td>-66.229907</td>\n",
       "    </tr>\n",
       "  </tbody>\n",
       "</table>\n",
       "</div>"
      ],
      "text/plain": [
       "                                                   g  ZCTA5CE10  GEOID10  \\\n",
       "0  POLYGON ((-66.260198 18.409546, -66.260052 18....        949      949   \n",
       "1  POLYGON ((-66.255686 18.471892, -66.255599 18....        950      950   \n",
       "2  POLYGON ((-66.24453199999999 17.975313, -66.24...        704      704   \n",
       "3  POLYGON ((-66.243315 18.181285, -66.243297 18....        739      739   \n",
       "4  POLYGON ((-66.234476 18.159904, -66.234458 18....        786      786   \n",
       "\n",
       "  CLASSFP10 MTFCC10 FUNCSTAT10   ALAND10  AWATER10  INTPTLAT10  INTPTLON10  \n",
       "0        B5   G6350          S  45535083   2112066   18.430695  -66.212833  \n",
       "1        B5   G6350          S   6204979   1989343   18.459699  -66.233101  \n",
       "2        B5   G6350          S  12633150   1768450   17.965770  -66.219555  \n",
       "3        B5   G6350          S  81792963   1113757   18.177233  -66.160645  \n",
       "4        B5   G6350          S    666251         0   18.155424  -66.229907  "
      ]
     },
     "execution_count": 9,
     "metadata": {},
     "output_type": "execute_result"
    }
   ],
   "source": [
    "dfZipCode = pd.read_json(\"../data/zcta5/TIGER2018_ZCTA5.json\", lines=True)\n",
    "dfZipCode.head()"
   ]
  },
  {
   "cell_type": "markdown",
   "metadata": {},
   "source": [
    "Then, columns info; datatype and non-null."
   ]
  },
  {
   "cell_type": "code",
   "execution_count": 10,
   "metadata": {},
   "outputs": [
    {
     "name": "stdout",
     "output_type": "stream",
     "text": [
      "<class 'pandas.core.frame.DataFrame'>\n",
      "RangeIndex: 33144 entries, 0 to 33143\n",
      "Data columns (total 10 columns):\n",
      " #   Column      Non-Null Count  Dtype  \n",
      "---  ------      --------------  -----  \n",
      " 0   g           33144 non-null  object \n",
      " 1   ZCTA5CE10   33144 non-null  int64  \n",
      " 2   GEOID10     33144 non-null  int64  \n",
      " 3   CLASSFP10   33144 non-null  object \n",
      " 4   MTFCC10     33144 non-null  object \n",
      " 5   FUNCSTAT10  33144 non-null  object \n",
      " 6   ALAND10     33144 non-null  int64  \n",
      " 7   AWATER10    33144 non-null  int64  \n",
      " 8   INTPTLAT10  33144 non-null  float64\n",
      " 9   INTPTLON10  33144 non-null  float64\n",
      "dtypes: float64(2), int64(4), object(4)\n",
      "memory usage: 1.3 GB\n"
     ]
    }
   ],
   "source": [
    "dfZipCode.info(memory_usage=\"deep\")"
   ]
  },
  {
   "cell_type": "markdown",
   "metadata": {},
   "source": [
    "Statistical Summary."
   ]
  },
  {
   "cell_type": "code",
   "execution_count": 11,
   "metadata": {},
   "outputs": [
    {
     "data": {
      "text/html": [
       "<div>\n",
       "<style scoped>\n",
       "    .dataframe tbody tr th:only-of-type {\n",
       "        vertical-align: middle;\n",
       "    }\n",
       "\n",
       "    .dataframe tbody tr th {\n",
       "        vertical-align: top;\n",
       "    }\n",
       "\n",
       "    .dataframe thead th {\n",
       "        text-align: right;\n",
       "    }\n",
       "</style>\n",
       "<table border=\"1\" class=\"dataframe\">\n",
       "  <thead>\n",
       "    <tr style=\"text-align: right;\">\n",
       "      <th></th>\n",
       "      <th>ZCTA5CE10</th>\n",
       "      <th>GEOID10</th>\n",
       "      <th>ALAND10</th>\n",
       "      <th>AWATER10</th>\n",
       "      <th>INTPTLAT10</th>\n",
       "      <th>INTPTLON10</th>\n",
       "    </tr>\n",
       "  </thead>\n",
       "  <tbody>\n",
       "    <tr>\n",
       "      <th>count</th>\n",
       "      <td>33144.000000</td>\n",
       "      <td>33144.000000</td>\n",
       "      <td>3.314400e+04</td>\n",
       "      <td>3.314400e+04</td>\n",
       "      <td>33144.000000</td>\n",
       "      <td>33144.000000</td>\n",
       "    </tr>\n",
       "    <tr>\n",
       "      <th>mean</th>\n",
       "      <td>49668.659033</td>\n",
       "      <td>49668.659033</td>\n",
       "      <td>2.242882e+08</td>\n",
       "      <td>5.087949e+06</td>\n",
       "      <td>38.819064</td>\n",
       "      <td>-90.925490</td>\n",
       "    </tr>\n",
       "    <tr>\n",
       "      <th>std</th>\n",
       "      <td>27585.182370</td>\n",
       "      <td>27585.182370</td>\n",
       "      <td>6.566305e+08</td>\n",
       "      <td>3.316928e+07</td>\n",
       "      <td>5.397590</td>\n",
       "      <td>15.788612</td>\n",
       "    </tr>\n",
       "    <tr>\n",
       "      <th>min</th>\n",
       "      <td>601.000000</td>\n",
       "      <td>601.000000</td>\n",
       "      <td>5.094000e+03</td>\n",
       "      <td>0.000000e+00</td>\n",
       "      <td>-14.223174</td>\n",
       "      <td>-176.629546</td>\n",
       "    </tr>\n",
       "    <tr>\n",
       "      <th>25%</th>\n",
       "      <td>26622.500000</td>\n",
       "      <td>26622.500000</td>\n",
       "      <td>2.342440e+07</td>\n",
       "      <td>5.714125e+04</td>\n",
       "      <td>35.390397</td>\n",
       "      <td>-97.234252</td>\n",
       "    </tr>\n",
       "    <tr>\n",
       "      <th>50%</th>\n",
       "      <td>49741.500000</td>\n",
       "      <td>49741.500000</td>\n",
       "      <td>9.283948e+07</td>\n",
       "      <td>5.772080e+05</td>\n",
       "      <td>39.493353</td>\n",
       "      <td>-88.194727</td>\n",
       "    </tr>\n",
       "    <tr>\n",
       "      <th>75%</th>\n",
       "      <td>72131.250000</td>\n",
       "      <td>72131.250000</td>\n",
       "      <td>2.291796e+08</td>\n",
       "      <td>2.749326e+06</td>\n",
       "      <td>42.120233</td>\n",
       "      <td>-80.220591</td>\n",
       "    </tr>\n",
       "    <tr>\n",
       "      <th>max</th>\n",
       "      <td>99929.000000</td>\n",
       "      <td>99929.000000</td>\n",
       "      <td>3.488105e+10</td>\n",
       "      <td>2.475162e+09</td>\n",
       "      <td>71.251679</td>\n",
       "      <td>145.754396</td>\n",
       "    </tr>\n",
       "  </tbody>\n",
       "</table>\n",
       "</div>"
      ],
      "text/plain": [
       "          ZCTA5CE10       GEOID10       ALAND10      AWATER10    INTPTLAT10  \\\n",
       "count  33144.000000  33144.000000  3.314400e+04  3.314400e+04  33144.000000   \n",
       "mean   49668.659033  49668.659033  2.242882e+08  5.087949e+06     38.819064   \n",
       "std    27585.182370  27585.182370  6.566305e+08  3.316928e+07      5.397590   \n",
       "min      601.000000    601.000000  5.094000e+03  0.000000e+00    -14.223174   \n",
       "25%    26622.500000  26622.500000  2.342440e+07  5.714125e+04     35.390397   \n",
       "50%    49741.500000  49741.500000  9.283948e+07  5.772080e+05     39.493353   \n",
       "75%    72131.250000  72131.250000  2.291796e+08  2.749326e+06     42.120233   \n",
       "max    99929.000000  99929.000000  3.488105e+10  2.475162e+09     71.251679   \n",
       "\n",
       "         INTPTLON10  \n",
       "count  33144.000000  \n",
       "mean     -90.925490  \n",
       "std       15.788612  \n",
       "min     -176.629546  \n",
       "25%      -97.234252  \n",
       "50%      -88.194727  \n",
       "75%      -80.220591  \n",
       "max      145.754396  "
      ]
     },
     "execution_count": 11,
     "metadata": {},
     "output_type": "execute_result"
    }
   ],
   "source": [
    "dfZipCode.describe()"
   ]
  },
  {
   "cell_type": "markdown",
   "metadata": {},
   "source": [
    "Number of unique values per column."
   ]
  },
  {
   "cell_type": "code",
   "execution_count": 12,
   "metadata": {},
   "outputs": [
    {
     "data": {
      "text/plain": [
       "g             33144\n",
       "ZCTA5CE10     33144\n",
       "GEOID10       33144\n",
       "CLASSFP10         1\n",
       "MTFCC10           1\n",
       "FUNCSTAT10        1\n",
       "ALAND10       33138\n",
       "AWATER10      28425\n",
       "INTPTLAT10    33136\n",
       "INTPTLON10    33139\n",
       "dtype: int64"
      ]
     },
     "execution_count": 12,
     "metadata": {},
     "output_type": "execute_result"
    }
   ],
   "source": [
    "dfZipCode.nunique()"
   ]
  },
  {
   "cell_type": "markdown",
   "metadata": {},
   "source": [
    "Remove useless columns."
   ]
  },
  {
   "cell_type": "code",
   "execution_count": 13,
   "metadata": {},
   "outputs": [
    {
     "name": "stdout",
     "output_type": "stream",
     "text": [
      "<class 'pandas.core.frame.DataFrame'>\n",
      "RangeIndex: 33144 entries, 0 to 33143\n",
      "Data columns (total 6 columns):\n",
      " #   Column      Non-Null Count  Dtype  \n",
      "---  ------      --------------  -----  \n",
      " 0   g           33144 non-null  object \n",
      " 1   GEOID10     33144 non-null  int64  \n",
      " 2   ALAND10     33144 non-null  int64  \n",
      " 3   AWATER10    33144 non-null  int64  \n",
      " 4   INTPTLAT10  33144 non-null  float64\n",
      " 5   INTPTLON10  33144 non-null  float64\n",
      "dtypes: float64(2), int64(3), object(1)\n",
      "memory usage: 1.3 GB\n"
     ]
    }
   ],
   "source": [
    "dfZipCode.drop(columns=[\"ZCTA5CE10\", \"CLASSFP10\", \"MTFCC10\", \"FUNCSTAT10\"], inplace=True)\n",
    "dfZipCode.info(memory_usage='deep')"
   ]
  },
  {
   "cell_type": "markdown",
   "metadata": {},
   "source": [
    "---\n",
    "\n",
    "Here, we convert strings into geometry types for applicable columns."
   ]
  },
  {
   "cell_type": "code",
   "execution_count": 14,
   "metadata": {},
   "outputs": [
    {
     "data": {
      "text/html": [
       "<div>\n",
       "<style scoped>\n",
       "    .dataframe tbody tr th:only-of-type {\n",
       "        vertical-align: middle;\n",
       "    }\n",
       "\n",
       "    .dataframe tbody tr th {\n",
       "        vertical-align: top;\n",
       "    }\n",
       "\n",
       "    .dataframe thead th {\n",
       "        text-align: right;\n",
       "    }\n",
       "</style>\n",
       "<table border=\"1\" class=\"dataframe\">\n",
       "  <thead>\n",
       "    <tr style=\"text-align: right;\">\n",
       "      <th></th>\n",
       "      <th>g</th>\n",
       "      <th>ID</th>\n",
       "      <th>Date</th>\n",
       "      <th>Block</th>\n",
       "      <th>Primary Type</th>\n",
       "      <th>Description</th>\n",
       "      <th>Location Description</th>\n",
       "      <th>Community Area</th>\n",
       "      <th>X Coordinate</th>\n",
       "      <th>Y Coordinate</th>\n",
       "      <th>Year</th>\n",
       "      <th>Arrest_b</th>\n",
       "      <th>Domestic_b</th>\n",
       "    </tr>\n",
       "  </thead>\n",
       "  <tbody>\n",
       "    <tr>\n",
       "      <th>0</th>\n",
       "      <td>POINT (-87.67920 41.96925)</td>\n",
       "      <td>9799787</td>\n",
       "      <td>2014-09-30 01:05:00</td>\n",
       "      <td>048XX N DAMEN AVE</td>\n",
       "      <td>CRIMINAL TRESPASS</td>\n",
       "      <td>TO VEHICLE</td>\n",
       "      <td>STREET</td>\n",
       "      <td>4</td>\n",
       "      <td>1162138</td>\n",
       "      <td>1932063</td>\n",
       "      <td>2014</td>\n",
       "      <td>True</td>\n",
       "      <td>False</td>\n",
       "    </tr>\n",
       "    <tr>\n",
       "      <th>1</th>\n",
       "      <td>POINT (-87.67920 41.96930)</td>\n",
       "      <td>9933145</td>\n",
       "      <td>2015-01-20 15:30:00</td>\n",
       "      <td>048XX N DAMEN AVE</td>\n",
       "      <td>CRIMINAL DAMAGE</td>\n",
       "      <td>TO PROPERTY</td>\n",
       "      <td>SMALL RETAIL STORE</td>\n",
       "      <td>4</td>\n",
       "      <td>1162137</td>\n",
       "      <td>1932083</td>\n",
       "      <td>2015</td>\n",
       "      <td>False</td>\n",
       "      <td>False</td>\n",
       "    </tr>\n",
       "    <tr>\n",
       "      <th>2</th>\n",
       "      <td>POINT (-87.67772 41.96947)</td>\n",
       "      <td>9936081</td>\n",
       "      <td>2015-01-21 11:00:00</td>\n",
       "      <td>048XX N WINCHESTER AVE</td>\n",
       "      <td>CRIMINAL DAMAGE</td>\n",
       "      <td>TO PROPERTY</td>\n",
       "      <td>APARTMENT</td>\n",
       "      <td>4</td>\n",
       "      <td>1162540</td>\n",
       "      <td>1932148</td>\n",
       "      <td>2015</td>\n",
       "      <td>False</td>\n",
       "      <td>False</td>\n",
       "    </tr>\n",
       "    <tr>\n",
       "      <th>3</th>\n",
       "      <td>POINT (-87.67772 41.96947)</td>\n",
       "      <td>9833072</td>\n",
       "      <td>2014-10-25 12:00:00</td>\n",
       "      <td>048XX N WINCHESTER AVE</td>\n",
       "      <td>CRIMINAL DAMAGE</td>\n",
       "      <td>TO VEHICLE</td>\n",
       "      <td>APARTMENT</td>\n",
       "      <td>4</td>\n",
       "      <td>1162540</td>\n",
       "      <td>1932148</td>\n",
       "      <td>2014</td>\n",
       "      <td>False</td>\n",
       "      <td>False</td>\n",
       "    </tr>\n",
       "    <tr>\n",
       "      <th>4</th>\n",
       "      <td>POINT (-87.67772 41.96949)</td>\n",
       "      <td>9822109</td>\n",
       "      <td>2014-10-17 08:30:00</td>\n",
       "      <td>048XX N WINCHESTER AVE</td>\n",
       "      <td>THEFT</td>\n",
       "      <td>$500 AND UNDER</td>\n",
       "      <td>RESIDENTIAL YARD (FRONT/BACK)</td>\n",
       "      <td>4</td>\n",
       "      <td>1162540</td>\n",
       "      <td>1932155</td>\n",
       "      <td>2014</td>\n",
       "      <td>False</td>\n",
       "      <td>False</td>\n",
       "    </tr>\n",
       "  </tbody>\n",
       "</table>\n",
       "</div>"
      ],
      "text/plain": [
       "                            g       ID                Date  \\\n",
       "0  POINT (-87.67920 41.96925)  9799787 2014-09-30 01:05:00   \n",
       "1  POINT (-87.67920 41.96930)  9933145 2015-01-20 15:30:00   \n",
       "2  POINT (-87.67772 41.96947)  9936081 2015-01-21 11:00:00   \n",
       "3  POINT (-87.67772 41.96947)  9833072 2014-10-25 12:00:00   \n",
       "4  POINT (-87.67772 41.96949)  9822109 2014-10-17 08:30:00   \n",
       "\n",
       "                    Block       Primary Type     Description  \\\n",
       "0       048XX N DAMEN AVE  CRIMINAL TRESPASS      TO VEHICLE   \n",
       "1       048XX N DAMEN AVE    CRIMINAL DAMAGE     TO PROPERTY   \n",
       "2  048XX N WINCHESTER AVE    CRIMINAL DAMAGE     TO PROPERTY   \n",
       "3  048XX N WINCHESTER AVE    CRIMINAL DAMAGE      TO VEHICLE   \n",
       "4  048XX N WINCHESTER AVE              THEFT  $500 AND UNDER   \n",
       "\n",
       "            Location Description  Community Area  X Coordinate  Y Coordinate  \\\n",
       "0                         STREET               4       1162138       1932063   \n",
       "1             SMALL RETAIL STORE               4       1162137       1932083   \n",
       "2                      APARTMENT               4       1162540       1932148   \n",
       "3                      APARTMENT               4       1162540       1932148   \n",
       "4  RESIDENTIAL YARD (FRONT/BACK)               4       1162540       1932155   \n",
       "\n",
       "   Year  Arrest_b  Domestic_b  \n",
       "0  2014      True       False  \n",
       "1  2015     False       False  \n",
       "2  2015     False       False  \n",
       "3  2014     False       False  \n",
       "4  2014     False       False  "
      ]
     },
     "execution_count": 14,
     "metadata": {},
     "output_type": "execute_result"
    }
   ],
   "source": [
    "dfCrime['g'] = geopandas.GeoSeries.from_wkt(dfCrime['g'])\n",
    "dfCrime = geopandas.GeoDataFrame(dfCrime, geometry='g')\n",
    "dfCrime.head()"
   ]
  },
  {
   "cell_type": "markdown",
   "metadata": {},
   "source": [
    "Then we examine the memory usage difference."
   ]
  },
  {
   "cell_type": "code",
   "execution_count": 15,
   "metadata": {},
   "outputs": [
    {
     "name": "stdout",
     "output_type": "stream",
     "text": [
      "<class 'geopandas.geodataframe.GeoDataFrame'>\n",
      "Int64Index: 199999 entries, 0 to 199999\n",
      "Data columns (total 13 columns):\n",
      " #   Column                Non-Null Count   Dtype         \n",
      "---  ------                --------------   -----         \n",
      " 0   g                     199999 non-null  geometry      \n",
      " 1   ID                    199999 non-null  Int32         \n",
      " 2   Date                  199999 non-null  datetime64[ns]\n",
      " 3   Block                 199999 non-null  object        \n",
      " 4   Primary Type          199999 non-null  object        \n",
      " 5   Description           199999 non-null  object        \n",
      " 6   Location Description  199761 non-null  object        \n",
      " 7   Community Area        181810 non-null  Int8          \n",
      " 8   X Coordinate          199999 non-null  Int32         \n",
      " 9   Y Coordinate          199999 non-null  Int32         \n",
      " 10  Year                  199999 non-null  Int16         \n",
      " 11  Arrest_b              199999 non-null  bool          \n",
      " 12  Domestic_b            199999 non-null  bool          \n",
      "dtypes: Int16(1), Int32(3), Int8(1), bool(2), datetime64[ns](1), geometry(1), object(4)\n",
      "memory usage: 62.7 MB\n"
     ]
    }
   ],
   "source": [
    "dfCrime.info(memory_usage=\"deep\")"
   ]
  },
  {
   "cell_type": "markdown",
   "metadata": {},
   "source": [
    "And convert types for the other dataset as well."
   ]
  },
  {
   "cell_type": "code",
   "execution_count": 16,
   "metadata": {},
   "outputs": [
    {
     "data": {
      "text/html": [
       "<div>\n",
       "<style scoped>\n",
       "    .dataframe tbody tr th:only-of-type {\n",
       "        vertical-align: middle;\n",
       "    }\n",
       "\n",
       "    .dataframe tbody tr th {\n",
       "        vertical-align: top;\n",
       "    }\n",
       "\n",
       "    .dataframe thead th {\n",
       "        text-align: right;\n",
       "    }\n",
       "</style>\n",
       "<table border=\"1\" class=\"dataframe\">\n",
       "  <thead>\n",
       "    <tr style=\"text-align: right;\">\n",
       "      <th></th>\n",
       "      <th>g</th>\n",
       "      <th>GEOID10</th>\n",
       "      <th>ALAND10</th>\n",
       "      <th>AWATER10</th>\n",
       "      <th>INTPTLAT10</th>\n",
       "      <th>INTPTLON10</th>\n",
       "    </tr>\n",
       "  </thead>\n",
       "  <tbody>\n",
       "    <tr>\n",
       "      <th>0</th>\n",
       "      <td>POLYGON ((-66.26020 18.40955, -66.26005 18.409...</td>\n",
       "      <td>949</td>\n",
       "      <td>45535083</td>\n",
       "      <td>2112066</td>\n",
       "      <td>18.430695</td>\n",
       "      <td>-66.212833</td>\n",
       "    </tr>\n",
       "    <tr>\n",
       "      <th>1</th>\n",
       "      <td>POLYGON ((-66.25569 18.47189, -66.25560 18.471...</td>\n",
       "      <td>950</td>\n",
       "      <td>6204979</td>\n",
       "      <td>1989343</td>\n",
       "      <td>18.459699</td>\n",
       "      <td>-66.233101</td>\n",
       "    </tr>\n",
       "    <tr>\n",
       "      <th>2</th>\n",
       "      <td>POLYGON ((-66.24453 17.97531, -66.24451 17.977...</td>\n",
       "      <td>704</td>\n",
       "      <td>12633150</td>\n",
       "      <td>1768450</td>\n",
       "      <td>17.965770</td>\n",
       "      <td>-66.219555</td>\n",
       "    </tr>\n",
       "    <tr>\n",
       "      <th>3</th>\n",
       "      <td>POLYGON ((-66.24331 18.18128, -66.24330 18.181...</td>\n",
       "      <td>739</td>\n",
       "      <td>81792963</td>\n",
       "      <td>1113757</td>\n",
       "      <td>18.177233</td>\n",
       "      <td>-66.160645</td>\n",
       "    </tr>\n",
       "    <tr>\n",
       "      <th>4</th>\n",
       "      <td>POLYGON ((-66.23448 18.15990, -66.23446 18.159...</td>\n",
       "      <td>786</td>\n",
       "      <td>666251</td>\n",
       "      <td>0</td>\n",
       "      <td>18.155424</td>\n",
       "      <td>-66.229907</td>\n",
       "    </tr>\n",
       "  </tbody>\n",
       "</table>\n",
       "</div>"
      ],
      "text/plain": [
       "                                                   g  GEOID10   ALAND10  \\\n",
       "0  POLYGON ((-66.26020 18.40955, -66.26005 18.409...      949  45535083   \n",
       "1  POLYGON ((-66.25569 18.47189, -66.25560 18.471...      950   6204979   \n",
       "2  POLYGON ((-66.24453 17.97531, -66.24451 17.977...      704  12633150   \n",
       "3  POLYGON ((-66.24331 18.18128, -66.24330 18.181...      739  81792963   \n",
       "4  POLYGON ((-66.23448 18.15990, -66.23446 18.159...      786    666251   \n",
       "\n",
       "   AWATER10  INTPTLAT10  INTPTLON10  \n",
       "0   2112066   18.430695  -66.212833  \n",
       "1   1989343   18.459699  -66.233101  \n",
       "2   1768450   17.965770  -66.219555  \n",
       "3   1113757   18.177233  -66.160645  \n",
       "4         0   18.155424  -66.229907  "
      ]
     },
     "execution_count": 16,
     "metadata": {},
     "output_type": "execute_result"
    }
   ],
   "source": [
    "dfZipCode['g'] = geopandas.GeoSeries.from_wkt(dfZipCode['g'])\n",
    "dfZipCode = geopandas.GeoDataFrame(dfZipCode, geometry='g')\n",
    "dfZipCode.head()"
   ]
  },
  {
   "cell_type": "markdown",
   "metadata": {},
   "source": [
    "Again, examine the memory usage difference."
   ]
  },
  {
   "cell_type": "code",
   "execution_count": 17,
   "metadata": {},
   "outputs": [
    {
     "name": "stdout",
     "output_type": "stream",
     "text": [
      "<class 'geopandas.geodataframe.GeoDataFrame'>\n",
      "RangeIndex: 33144 entries, 0 to 33143\n",
      "Data columns (total 6 columns):\n",
      " #   Column      Non-Null Count  Dtype   \n",
      "---  ------      --------------  -----   \n",
      " 0   g           33144 non-null  geometry\n",
      " 1   GEOID10     33144 non-null  int64   \n",
      " 2   ALAND10     33144 non-null  int64   \n",
      " 3   AWATER10    33144 non-null  int64   \n",
      " 4   INTPTLAT10  33144 non-null  float64 \n",
      " 5   INTPTLON10  33144 non-null  float64 \n",
      "dtypes: float64(2), geometry(1), int64(3)\n",
      "memory usage: 1.5 MB\n"
     ]
    }
   ],
   "source": [
    "dfZipCode.info(memory_usage=\"deep\")"
   ]
  },
  {
   "cell_type": "markdown",
   "metadata": {},
   "source": [
    "---"
   ]
  },
  {
   "cell_type": "code",
   "execution_count": 18,
   "metadata": {},
   "outputs": [
    {
     "data": {
      "text/html": [
       "<div>\n",
       "<style scoped>\n",
       "    .dataframe tbody tr th:only-of-type {\n",
       "        vertical-align: middle;\n",
       "    }\n",
       "\n",
       "    .dataframe tbody tr th {\n",
       "        vertical-align: top;\n",
       "    }\n",
       "\n",
       "    .dataframe thead th {\n",
       "        text-align: right;\n",
       "    }\n",
       "</style>\n",
       "<table border=\"1\" class=\"dataframe\">\n",
       "  <thead>\n",
       "    <tr style=\"text-align: right;\">\n",
       "      <th></th>\n",
       "      <th>index_left</th>\n",
       "      <th>ID</th>\n",
       "      <th>Date</th>\n",
       "      <th>Block</th>\n",
       "      <th>Primary Type</th>\n",
       "      <th>Description</th>\n",
       "      <th>Location Description</th>\n",
       "      <th>Community Area</th>\n",
       "      <th>X Coordinate</th>\n",
       "      <th>Y Coordinate</th>\n",
       "      <th>Year</th>\n",
       "      <th>Arrest_b</th>\n",
       "      <th>Domestic_b</th>\n",
       "      <th>g</th>\n",
       "      <th>GEOID10</th>\n",
       "      <th>ALAND10</th>\n",
       "      <th>AWATER10</th>\n",
       "      <th>INTPTLAT10</th>\n",
       "      <th>INTPTLON10</th>\n",
       "    </tr>\n",
       "  </thead>\n",
       "  <tbody>\n",
       "    <tr>\n",
       "      <th>0</th>\n",
       "      <td>NaN</td>\n",
       "      <td>&lt;NA&gt;</td>\n",
       "      <td>NaT</td>\n",
       "      <td>NaN</td>\n",
       "      <td>NaN</td>\n",
       "      <td>NaN</td>\n",
       "      <td>NaN</td>\n",
       "      <td>&lt;NA&gt;</td>\n",
       "      <td>&lt;NA&gt;</td>\n",
       "      <td>&lt;NA&gt;</td>\n",
       "      <td>&lt;NA&gt;</td>\n",
       "      <td>NaN</td>\n",
       "      <td>NaN</td>\n",
       "      <td>POLYGON ((-66.26020 18.40955, -66.26005 18.409...</td>\n",
       "      <td>949</td>\n",
       "      <td>45535083</td>\n",
       "      <td>2112066</td>\n",
       "      <td>18.430695</td>\n",
       "      <td>-66.212833</td>\n",
       "    </tr>\n",
       "    <tr>\n",
       "      <th>1</th>\n",
       "      <td>NaN</td>\n",
       "      <td>&lt;NA&gt;</td>\n",
       "      <td>NaT</td>\n",
       "      <td>NaN</td>\n",
       "      <td>NaN</td>\n",
       "      <td>NaN</td>\n",
       "      <td>NaN</td>\n",
       "      <td>&lt;NA&gt;</td>\n",
       "      <td>&lt;NA&gt;</td>\n",
       "      <td>&lt;NA&gt;</td>\n",
       "      <td>&lt;NA&gt;</td>\n",
       "      <td>NaN</td>\n",
       "      <td>NaN</td>\n",
       "      <td>POLYGON ((-66.25569 18.47189, -66.25560 18.471...</td>\n",
       "      <td>950</td>\n",
       "      <td>6204979</td>\n",
       "      <td>1989343</td>\n",
       "      <td>18.459699</td>\n",
       "      <td>-66.233101</td>\n",
       "    </tr>\n",
       "    <tr>\n",
       "      <th>2</th>\n",
       "      <td>NaN</td>\n",
       "      <td>&lt;NA&gt;</td>\n",
       "      <td>NaT</td>\n",
       "      <td>NaN</td>\n",
       "      <td>NaN</td>\n",
       "      <td>NaN</td>\n",
       "      <td>NaN</td>\n",
       "      <td>&lt;NA&gt;</td>\n",
       "      <td>&lt;NA&gt;</td>\n",
       "      <td>&lt;NA&gt;</td>\n",
       "      <td>&lt;NA&gt;</td>\n",
       "      <td>NaN</td>\n",
       "      <td>NaN</td>\n",
       "      <td>POLYGON ((-66.24453 17.97531, -66.24451 17.977...</td>\n",
       "      <td>704</td>\n",
       "      <td>12633150</td>\n",
       "      <td>1768450</td>\n",
       "      <td>17.965770</td>\n",
       "      <td>-66.219555</td>\n",
       "    </tr>\n",
       "    <tr>\n",
       "      <th>3</th>\n",
       "      <td>NaN</td>\n",
       "      <td>&lt;NA&gt;</td>\n",
       "      <td>NaT</td>\n",
       "      <td>NaN</td>\n",
       "      <td>NaN</td>\n",
       "      <td>NaN</td>\n",
       "      <td>NaN</td>\n",
       "      <td>&lt;NA&gt;</td>\n",
       "      <td>&lt;NA&gt;</td>\n",
       "      <td>&lt;NA&gt;</td>\n",
       "      <td>&lt;NA&gt;</td>\n",
       "      <td>NaN</td>\n",
       "      <td>NaN</td>\n",
       "      <td>POLYGON ((-66.24331 18.18128, -66.24330 18.181...</td>\n",
       "      <td>739</td>\n",
       "      <td>81792963</td>\n",
       "      <td>1113757</td>\n",
       "      <td>18.177233</td>\n",
       "      <td>-66.160645</td>\n",
       "    </tr>\n",
       "    <tr>\n",
       "      <th>4</th>\n",
       "      <td>NaN</td>\n",
       "      <td>&lt;NA&gt;</td>\n",
       "      <td>NaT</td>\n",
       "      <td>NaN</td>\n",
       "      <td>NaN</td>\n",
       "      <td>NaN</td>\n",
       "      <td>NaN</td>\n",
       "      <td>&lt;NA&gt;</td>\n",
       "      <td>&lt;NA&gt;</td>\n",
       "      <td>&lt;NA&gt;</td>\n",
       "      <td>&lt;NA&gt;</td>\n",
       "      <td>NaN</td>\n",
       "      <td>NaN</td>\n",
       "      <td>POLYGON ((-66.23448 18.15990, -66.23446 18.159...</td>\n",
       "      <td>786</td>\n",
       "      <td>666251</td>\n",
       "      <td>0</td>\n",
       "      <td>18.155424</td>\n",
       "      <td>-66.229907</td>\n",
       "    </tr>\n",
       "  </tbody>\n",
       "</table>\n",
       "</div>"
      ],
      "text/plain": [
       "   index_left    ID Date Block Primary Type Description Location Description  \\\n",
       "0         NaN  <NA>  NaT   NaN          NaN         NaN                  NaN   \n",
       "1         NaN  <NA>  NaT   NaN          NaN         NaN                  NaN   \n",
       "2         NaN  <NA>  NaT   NaN          NaN         NaN                  NaN   \n",
       "3         NaN  <NA>  NaT   NaN          NaN         NaN                  NaN   \n",
       "4         NaN  <NA>  NaT   NaN          NaN         NaN                  NaN   \n",
       "\n",
       "   Community Area  X Coordinate  Y Coordinate  Year Arrest_b Domestic_b  \\\n",
       "0            <NA>          <NA>          <NA>  <NA>      NaN        NaN   \n",
       "1            <NA>          <NA>          <NA>  <NA>      NaN        NaN   \n",
       "2            <NA>          <NA>          <NA>  <NA>      NaN        NaN   \n",
       "3            <NA>          <NA>          <NA>  <NA>      NaN        NaN   \n",
       "4            <NA>          <NA>          <NA>  <NA>      NaN        NaN   \n",
       "\n",
       "                                                   g  GEOID10   ALAND10  \\\n",
       "0  POLYGON ((-66.26020 18.40955, -66.26005 18.409...      949  45535083   \n",
       "1  POLYGON ((-66.25569 18.47189, -66.25560 18.471...      950   6204979   \n",
       "2  POLYGON ((-66.24453 17.97531, -66.24451 17.977...      704  12633150   \n",
       "3  POLYGON ((-66.24331 18.18128, -66.24330 18.181...      739  81792963   \n",
       "4  POLYGON ((-66.23448 18.15990, -66.23446 18.159...      786    666251   \n",
       "\n",
       "   AWATER10  INTPTLAT10  INTPTLON10  \n",
       "0   2112066   18.430695  -66.212833  \n",
       "1   1989343   18.459699  -66.233101  \n",
       "2   1768450   17.965770  -66.219555  \n",
       "3   1113757   18.177233  -66.160645  \n",
       "4         0   18.155424  -66.229907  "
      ]
     },
     "execution_count": 18,
     "metadata": {},
     "output_type": "execute_result"
    }
   ],
   "source": [
    "dfRJoint = dfCrime.sjoin(dfZipCode, how='right')\n",
    "dfRJoint.head()"
   ]
  },
  {
   "cell_type": "code",
   "execution_count": 19,
   "metadata": {},
   "outputs": [
    {
     "name": "stdout",
     "output_type": "stream",
     "text": [
      "<class 'geopandas.geodataframe.GeoDataFrame'>\n",
      "Int64Index: 233109 entries, 0 to 33143\n",
      "Data columns (total 19 columns):\n",
      " #   Column                Non-Null Count   Dtype         \n",
      "---  ------                --------------   -----         \n",
      " 0   index_left            199999 non-null  float64       \n",
      " 1   ID                    199999 non-null  Int32         \n",
      " 2   Date                  199999 non-null  datetime64[ns]\n",
      " 3   Block                 199999 non-null  object        \n",
      " 4   Primary Type          199999 non-null  object        \n",
      " 5   Description           199999 non-null  object        \n",
      " 6   Location Description  199761 non-null  object        \n",
      " 7   Community Area        181810 non-null  Int8          \n",
      " 8   X Coordinate          199999 non-null  Int32         \n",
      " 9   Y Coordinate          199999 non-null  Int32         \n",
      " 10  Year                  199999 non-null  Int16         \n",
      " 11  Arrest_b              199999 non-null  object        \n",
      " 12  Domestic_b            199999 non-null  object        \n",
      " 13  g                     233109 non-null  geometry      \n",
      " 14  GEOID10               233109 non-null  int64         \n",
      " 15  ALAND10               233109 non-null  int64         \n",
      " 16  AWATER10              233109 non-null  int64         \n",
      " 17  INTPTLAT10            233109 non-null  float64       \n",
      " 18  INTPTLON10            233109 non-null  float64       \n",
      "dtypes: Int16(1), Int32(3), Int8(1), datetime64[ns](1), float64(3), geometry(1), int64(3), object(6)\n",
      "memory usage: 92.8 MB\n"
     ]
    }
   ],
   "source": [
    "dfRJoint.info(memory_usage='deep')"
   ]
  },
  {
   "cell_type": "code",
   "execution_count": 20,
   "metadata": {},
   "outputs": [],
   "source": [
    "geoId_group = dfRJoint.dropna(subset=['ID']).groupby(['GEOID10'])"
   ]
  },
  {
   "cell_type": "code",
   "execution_count": 21,
   "metadata": {},
   "outputs": [],
   "source": [
    "polygons = geoId_group['g'].first()\n",
    "crimes = geoId_group['ID'].count()"
   ]
  },
  {
   "cell_type": "code",
   "execution_count": 22,
   "metadata": {},
   "outputs": [
    {
     "data": {
      "text/plain": [
       "<AxesSubplot:xlabel='GEOID10'>"
      ]
     },
     "execution_count": 22,
     "metadata": {},
     "output_type": "execute_result"
    },
    {
     "data": {
      "image/png": "[encoded data removed]",
      "text/plain": [
       "<Figure size 432x288 with 1 Axes>"
      ]
     },
     "metadata": {
      "needs_background": "light"
     },
     "output_type": "display_data"
    }
   ],
   "source": [
    "crimes.plot()"
   ]
  },
  {
   "cell_type": "code",
   "execution_count": 23,
   "metadata": {},
   "outputs": [
    {
     "name": "stderr",
     "output_type": "stream",
     "text": [
      "/home/malin/.virtualenvs/gsoc/lib/python3.10/site-packages/geoplot/geoplot.py:885: ShapelyDeprecationWarning: Iteration over multi-part geometries is deprecated and will be removed in Shapely 2.0. Use the `geoms` property to access the constituent parts of a multi-part geometry.\n",
      "  for subgeom in geom:\n"
     ]
    },
    {
     "data": {
      "text/plain": [
       "<AxesSubplot:>"
      ]
     },
     "execution_count": 23,
     "metadata": {},
     "output_type": "execute_result"
    },
    {
     "data": {
      "image/png": "[encoded data removed]",
      "text/plain": [
       "<Figure size 576x432 with 1 Axes>"
      ]
     },
     "metadata": {
      "needs_background": "light"
     },
     "output_type": "display_data"
    }
   ],
   "source": [
    "gplt.polyplot(polygons)"
   ]
  },
  {
   "cell_type": "code",
   "execution_count": 24,
   "metadata": {},
   "outputs": [
    {
     "data": {
      "image/png": "[encoded data removed]",
      "text/plain": [
       "<Figure size 1440x720 with 1 Axes>"
      ]
     },
     "metadata": {
      "needs_background": "light"
     },
     "output_type": "display_data"
    }
   ],
   "source": [
    "ax = gplt.choropleth(\n",
    "    polygons, hue=crimes, projection=gcrs.AlbersEqualArea(),\n",
    "    edgecolor='white', linewidth=1,\n",
    "    cmap='Reds', legend=True,\n",
    "    scheme='FisherJenks', figsize=(20,10)\n",
    ")\n",
    "\n"
   ]
  },
  {
   "cell_type": "code",
   "execution_count": 25,
   "metadata": {},
   "outputs": [
    {
     "data": {
      "text/plain": [
       "<AxesSubplot:>"
      ]
     },
     "execution_count": 25,
     "metadata": {},
     "output_type": "execute_result"
    },
    {
     "data": {
      "image/png": "[encoded data removed]",
      "text/plain": [
       "<Figure size 1368x720 with 1 Axes>"
      ]
     },
     "metadata": {
      "needs_background": "light"
     },
     "output_type": "display_data"
    }
   ],
   "source": [
    "dfCrime['Primary Type'].value_counts().plot.bar(figsize=(19,10))"
   ]
  },
  {
   "cell_type": "code",
   "execution_count": 26,
   "metadata": {},
   "outputs": [
    {
     "data": {
      "text/plain": [
       "<AxesSubplot:>"
      ]
     },
     "execution_count": 26,
     "metadata": {},
     "output_type": "execute_result"
    },
    {
     "data": {
      "image/png": "[encoded data removed]",
      "text/plain": [
       "<Figure size 1368x720 with 1 Axes>"
      ]
     },
     "metadata": {
      "needs_background": "light"
     },
     "output_type": "display_data"
    }
   ],
   "source": [
    "dfCrime['Year'].value_counts().plot.bar(figsize=(19,10))"
   ]
  },
  {
   "cell_type": "code",
   "execution_count": 27,
   "metadata": {},
   "outputs": [
    {
     "data": {
      "text/plain": [
       "<AxesSubplot:xlabel='Date'>"
      ]
     },
     "execution_count": 27,
     "metadata": {},
     "output_type": "execute_result"
    },
    {
     "data": {
      "image/png": "[encoded data removed]",
      "text/plain": [
       "<Figure size 1368x720 with 1 Axes>"
      ]
     },
     "metadata": {
      "needs_background": "light"
     },
     "output_type": "display_data"
    }
   ],
   "source": [
    "dfCrime['Date'].groupby([dfCrime['Date'].dt.year]).count().plot.bar(figsize=(19,10))"
   ]
  },
  {
   "cell_type": "code",
   "execution_count": null,
   "metadata": {},
   "outputs": [],
   "source": []
  }
 ],
 "metadata": {
  "kernelspec": {
   "display_name": "Python 3.10.4 ('gsoc')",
   "language": "python",
   "name": "python3"
  },
  "language_info": {
   "codemirror_mode": {
    "name": "ipython",
    "version": 3
   },
   "file_extension": ".py",
   "mimetype": "text/x-python",
   "name": "python",
   "nbconvert_exporter": "python",
   "pygments_lexer": "ipython3",
   "version": "3.10.4"
  },
  "orig_nbformat": 4,
  "vscode": {
   "interpreter": {
    "hash": "122495c4063850a28ae774560ba5db19359a25c6781796f476c8a8f81f528aa5"
   }
  }
 },
 "nbformat": 4,
 "nbformat_minor": 2
}
