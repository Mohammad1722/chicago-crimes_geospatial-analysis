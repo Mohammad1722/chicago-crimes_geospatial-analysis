{
 "cells": [
  {
   "cell_type": "markdown",
   "metadata": {},
   "source": [
    "# Data Analysis on Chicago Crimes Dataset\n",
    "\n",
    "First things first, we import all the modules that we are going to use."
   ]
  },
  {
   "cell_type": "code",
   "execution_count": 1,
   "metadata": {},
   "outputs": [],
   "source": [
    "import numpy as np\n",
    "import pandas as pd\n",
    "import geopandas as gpd\n",
    "import geoplot as gplt\n",
    "import geoplot.crs as gcrs\n",
    "import matplotlib.pyplot as plt\n",
    "\n",
    "%matplotlib inline"
   ]
  },
  {
   "cell_type": "markdown",
   "metadata": {},
   "source": [
    "Getting the number of lines in each dataset to get a sense of its size."
   ]
  },
  {
   "cell_type": "code",
   "execution_count": 2,
   "metadata": {},
   "outputs": [
    {
     "name": "stdout",
     "output_type": "stream",
     "text": [
      "Chicago Crimes dataset has 7,147,877 lines.\n",
      "ZCTA5 dataset has 167 lines.\n"
     ]
    }
   ],
   "source": [
    "import mmap\n",
    "\n",
    "def lines_mapcount(filename):\n",
    "    f = open(filename, \"r+\")\n",
    "    buf = mmap.mmap(f.fileno(), 0)\n",
    "    lines = 0\n",
    "    readline = buf.readline\n",
    "    while readline():\n",
    "        lines += 1\n",
    "    return lines\n",
    "\n",
    "print(f'Chicago Crimes dataset has {lines_mapcount(\"../data/chicagoCrimes/Chicago_Crimes.json\"):,} lines.')\n",
    "print(f'ZCTA5 dataset has {lines_mapcount(\"../data/zcta5/TIGER2018_ZCTA5.json\"):,} lines.')"
   ]
  },
  {
   "cell_type": "markdown",
   "metadata": {},
   "source": [
    "Loading the Pickle file and converting it into a GeoPandas DataFrame"
   ]
  },
  {
   "cell_type": "code",
   "execution_count": 3,
   "metadata": {},
   "outputs": [
    {
     "name": "stdout",
     "output_type": "stream",
     "text": [
      "Loading done!\n"
     ]
    }
   ],
   "source": [
    "file_name = \"../data/chicagoCrimes/Chicago_Crimes_cleaned.pkl\"\n",
    "dfCrime = pd.read_pickle(file_name)\n",
    "dfCrime = gpd.GeoDataFrame(dfCrime, geometry='g')\n",
    "print(\"Loading done!\")"
   ]
  },
  {
   "cell_type": "markdown",
   "metadata": {},
   "source": [
    "Here we take a look on the first 5 rows of the dataset."
   ]
  },
  {
   "cell_type": "code",
   "execution_count": 4,
   "metadata": {},
   "outputs": [
    {
     "data": {
      "text/html": [
       "<div>\n",
       "<style scoped>\n",
       "    .dataframe tbody tr th:only-of-type {\n",
       "        vertical-align: middle;\n",
       "    }\n",
       "\n",
       "    .dataframe tbody tr th {\n",
       "        vertical-align: top;\n",
       "    }\n",
       "\n",
       "    .dataframe thead th {\n",
       "        text-align: right;\n",
       "    }\n",
       "</style>\n",
       "<table border=\"1\" class=\"dataframe\">\n",
       "  <thead>\n",
       "    <tr style=\"text-align: right;\">\n",
       "      <th></th>\n",
       "      <th>g</th>\n",
       "      <th>ID</th>\n",
       "      <th>Date</th>\n",
       "      <th>Primary Type</th>\n",
       "      <th>Description</th>\n",
       "      <th>Location Description</th>\n",
       "      <th>Arrest</th>\n",
       "      <th>Domestic</th>\n",
       "      <th>District</th>\n",
       "      <th>FBI Code</th>\n",
       "      <th>Score Crime</th>\n",
       "      <th>Score Arrest</th>\n",
       "    </tr>\n",
       "  </thead>\n",
       "  <tbody>\n",
       "    <tr>\n",
       "      <th>0</th>\n",
       "      <td>POINT (-87.67920 41.96925)</td>\n",
       "      <td>9799787</td>\n",
       "      <td>2014-09-30 01:05:00</td>\n",
       "      <td>CRIMINAL TRESPASS</td>\n",
       "      <td>TO VEHICLE</td>\n",
       "      <td>STREET</td>\n",
       "      <td>1</td>\n",
       "      <td>0</td>\n",
       "      <td>20.0</td>\n",
       "      <td>26</td>\n",
       "      <td>1</td>\n",
       "      <td>&lt;NA&gt;</td>\n",
       "    </tr>\n",
       "    <tr>\n",
       "      <th>1</th>\n",
       "      <td>POINT (-87.67920 41.96930)</td>\n",
       "      <td>9933145</td>\n",
       "      <td>2015-01-20 15:30:00</td>\n",
       "      <td>CRIMINAL DAMAGE</td>\n",
       "      <td>TO PROPERTY</td>\n",
       "      <td>SMALL RETAIL STORE</td>\n",
       "      <td>0</td>\n",
       "      <td>0</td>\n",
       "      <td>20.0</td>\n",
       "      <td>14</td>\n",
       "      <td>13</td>\n",
       "      <td>&lt;NA&gt;</td>\n",
       "    </tr>\n",
       "    <tr>\n",
       "      <th>2</th>\n",
       "      <td>POINT (-87.67772 41.96947)</td>\n",
       "      <td>9936081</td>\n",
       "      <td>2015-01-21 11:00:00</td>\n",
       "      <td>CRIMINAL DAMAGE</td>\n",
       "      <td>TO PROPERTY</td>\n",
       "      <td>APARTMENT</td>\n",
       "      <td>0</td>\n",
       "      <td>0</td>\n",
       "      <td>20.0</td>\n",
       "      <td>14</td>\n",
       "      <td>13</td>\n",
       "      <td>&lt;NA&gt;</td>\n",
       "    </tr>\n",
       "    <tr>\n",
       "      <th>3</th>\n",
       "      <td>POINT (-87.67772 41.96947)</td>\n",
       "      <td>9833072</td>\n",
       "      <td>2014-10-25 12:00:00</td>\n",
       "      <td>CRIMINAL DAMAGE</td>\n",
       "      <td>TO VEHICLE</td>\n",
       "      <td>APARTMENT</td>\n",
       "      <td>0</td>\n",
       "      <td>0</td>\n",
       "      <td>20.0</td>\n",
       "      <td>14</td>\n",
       "      <td>13</td>\n",
       "      <td>&lt;NA&gt;</td>\n",
       "    </tr>\n",
       "    <tr>\n",
       "      <th>4</th>\n",
       "      <td>POINT (-87.67772 41.96949)</td>\n",
       "      <td>9822109</td>\n",
       "      <td>2014-10-17 08:30:00</td>\n",
       "      <td>THEFT</td>\n",
       "      <td>$500 AND UNDER</td>\n",
       "      <td>RESIDENTIAL YARD (FRONT/BACK)</td>\n",
       "      <td>0</td>\n",
       "      <td>0</td>\n",
       "      <td>20.0</td>\n",
       "      <td>06</td>\n",
       "      <td>21</td>\n",
       "      <td>&lt;NA&gt;</td>\n",
       "    </tr>\n",
       "  </tbody>\n",
       "</table>\n",
       "</div>"
      ],
      "text/plain": [
       "                            g       ID                Date       Primary Type  \\\n",
       "0  POINT (-87.67920 41.96925)  9799787 2014-09-30 01:05:00  CRIMINAL TRESPASS   \n",
       "1  POINT (-87.67920 41.96930)  9933145 2015-01-20 15:30:00    CRIMINAL DAMAGE   \n",
       "2  POINT (-87.67772 41.96947)  9936081 2015-01-21 11:00:00    CRIMINAL DAMAGE   \n",
       "3  POINT (-87.67772 41.96947)  9833072 2014-10-25 12:00:00    CRIMINAL DAMAGE   \n",
       "4  POINT (-87.67772 41.96949)  9822109 2014-10-17 08:30:00              THEFT   \n",
       "\n",
       "      Description           Location Description  Arrest  Domestic District  \\\n",
       "0      TO VEHICLE                         STREET       1         0     20.0   \n",
       "1     TO PROPERTY             SMALL RETAIL STORE       0         0     20.0   \n",
       "2     TO PROPERTY                      APARTMENT       0         0     20.0   \n",
       "3      TO VEHICLE                      APARTMENT       0         0     20.0   \n",
       "4  $500 AND UNDER  RESIDENTIAL YARD (FRONT/BACK)       0         0     20.0   \n",
       "\n",
       "  FBI Code  Score Crime  Score Arrest  \n",
       "0       26            1          <NA>  \n",
       "1       14           13          <NA>  \n",
       "2       14           13          <NA>  \n",
       "3       14           13          <NA>  \n",
       "4       06           21          <NA>  "
      ]
     },
     "execution_count": 4,
     "metadata": {},
     "output_type": "execute_result"
    }
   ],
   "source": [
    "dfCrime.head()"
   ]
  },
  {
   "cell_type": "markdown",
   "metadata": {},
   "source": [
    "Then we get general info of each column; like, the datatype, abd the non-null values count."
   ]
  },
  {
   "cell_type": "code",
   "execution_count": 5,
   "metadata": {},
   "outputs": [
    {
     "name": "stdout",
     "output_type": "stream",
     "text": [
      "<class 'geopandas.geodataframe.GeoDataFrame'>\n",
      "Int64Index: 7078918 entries, 0 to 7147876\n",
      "Data columns (total 12 columns):\n",
      " #   Column                Dtype         \n",
      "---  ------                -----         \n",
      " 0   g                     geometry      \n",
      " 1   ID                    Int32         \n",
      " 2   Date                  datetime64[ns]\n",
      " 3   Primary Type          category      \n",
      " 4   Description           category      \n",
      " 5   Location Description  category      \n",
      " 6   Arrest                Int8          \n",
      " 7   Domestic              Int8          \n",
      " 8   District              category      \n",
      " 9   FBI Code              category      \n",
      " 10  Score Crime           Int8          \n",
      " 11  Score Arrest          Int8          \n",
      "dtypes: Int32(1), Int8(4), category(5), datetime64[ns](1), geometry(1)\n",
      "memory usage: 297.1 MB\n"
     ]
    }
   ],
   "source": [
    "dfCrime.info(memory_usage=\"deep\")"
   ]
  },
  {
   "cell_type": "markdown",
   "metadata": {},
   "source": [
    "Then a quick descriptive statistics summary of numeric columns."
   ]
  },
  {
   "cell_type": "code",
   "execution_count": 6,
   "metadata": {},
   "outputs": [
    {
     "data": {
      "text/html": [
       "<div>\n",
       "<style scoped>\n",
       "    .dataframe tbody tr th:only-of-type {\n",
       "        vertical-align: middle;\n",
       "    }\n",
       "\n",
       "    .dataframe tbody tr th {\n",
       "        vertical-align: top;\n",
       "    }\n",
       "\n",
       "    .dataframe thead th {\n",
       "        text-align: right;\n",
       "    }\n",
       "</style>\n",
       "<table border=\"1\" class=\"dataframe\">\n",
       "  <thead>\n",
       "    <tr style=\"text-align: right;\">\n",
       "      <th></th>\n",
       "      <th>ID</th>\n",
       "      <th>Arrest</th>\n",
       "      <th>Domestic</th>\n",
       "      <th>Score Crime</th>\n",
       "      <th>Score Arrest</th>\n",
       "    </tr>\n",
       "  </thead>\n",
       "  <tbody>\n",
       "    <tr>\n",
       "      <th>count</th>\n",
       "      <td>7.078918e+06</td>\n",
       "      <td>7.078918e+06</td>\n",
       "      <td>7.078918e+06</td>\n",
       "      <td>7.078918e+06</td>\n",
       "      <td>0</td>\n",
       "    </tr>\n",
       "    <tr>\n",
       "      <th>mean</th>\n",
       "      <td>6.531848e+06</td>\n",
       "      <td>2.735994e-01</td>\n",
       "      <td>1.339089e-01</td>\n",
       "      <td>1.604244e+01</td>\n",
       "      <td>&lt;NA&gt;</td>\n",
       "    </tr>\n",
       "    <tr>\n",
       "      <th>std</th>\n",
       "      <td>3.214072e+06</td>\n",
       "      <td>4.458058e-01</td>\n",
       "      <td>3.405544e-01</td>\n",
       "      <td>6.778636e+00</td>\n",
       "      <td>&lt;NA&gt;</td>\n",
       "    </tr>\n",
       "    <tr>\n",
       "      <th>min</th>\n",
       "      <td>6.340000e+02</td>\n",
       "      <td>0.000000e+00</td>\n",
       "      <td>0.000000e+00</td>\n",
       "      <td>1.000000e+00</td>\n",
       "      <td>&lt;NA&gt;</td>\n",
       "    </tr>\n",
       "    <tr>\n",
       "      <th>25%</th>\n",
       "      <td>3.561036e+06</td>\n",
       "      <td>0.000000e+00</td>\n",
       "      <td>0.000000e+00</td>\n",
       "      <td>1.300000e+01</td>\n",
       "      <td>&lt;NA&gt;</td>\n",
       "    </tr>\n",
       "    <tr>\n",
       "      <th>50%</th>\n",
       "      <td>6.521622e+06</td>\n",
       "      <td>0.000000e+00</td>\n",
       "      <td>0.000000e+00</td>\n",
       "      <td>1.900000e+01</td>\n",
       "      <td>&lt;NA&gt;</td>\n",
       "    </tr>\n",
       "    <tr>\n",
       "      <th>75%</th>\n",
       "      <td>9.310905e+06</td>\n",
       "      <td>1.000000e+00</td>\n",
       "      <td>0.000000e+00</td>\n",
       "      <td>2.100000e+01</td>\n",
       "      <td>&lt;NA&gt;</td>\n",
       "    </tr>\n",
       "    <tr>\n",
       "      <th>max</th>\n",
       "      <td>1.209505e+07</td>\n",
       "      <td>1.000000e+00</td>\n",
       "      <td>1.000000e+00</td>\n",
       "      <td>2.600000e+01</td>\n",
       "      <td>&lt;NA&gt;</td>\n",
       "    </tr>\n",
       "  </tbody>\n",
       "</table>\n",
       "</div>"
      ],
      "text/plain": [
       "                 ID        Arrest      Domestic   Score Crime Score Arrest\n",
       "count  7.078918e+06  7.078918e+06  7.078918e+06  7.078918e+06            0\n",
       "mean   6.531848e+06  2.735994e-01  1.339089e-01  1.604244e+01         <NA>\n",
       "std    3.214072e+06  4.458058e-01  3.405544e-01  6.778636e+00         <NA>\n",
       "min    6.340000e+02  0.000000e+00  0.000000e+00  1.000000e+00         <NA>\n",
       "25%    3.561036e+06  0.000000e+00  0.000000e+00  1.300000e+01         <NA>\n",
       "50%    6.521622e+06  0.000000e+00  0.000000e+00  1.900000e+01         <NA>\n",
       "75%    9.310905e+06  1.000000e+00  0.000000e+00  2.100000e+01         <NA>\n",
       "max    1.209505e+07  1.000000e+00  1.000000e+00  2.600000e+01         <NA>"
      ]
     },
     "execution_count": 6,
     "metadata": {},
     "output_type": "execute_result"
    }
   ],
   "source": [
    "dfCrime.describe()"
   ]
  },
  {
   "cell_type": "markdown",
   "metadata": {},
   "source": [
    "Then a quick overview of the number of unique values in each column."
   ]
  },
  {
   "cell_type": "code",
   "execution_count": 7,
   "metadata": {},
   "outputs": [
    {
     "data": {
      "text/plain": [
       "g                        872127\n",
       "ID                      7078918\n",
       "Date                    2882091\n",
       "Primary Type                 36\n",
       "Description                 522\n",
       "Location Description        212\n",
       "Arrest                        2\n",
       "Domestic                      2\n",
       "District                     24\n",
       "FBI Code                     26\n",
       "Score Crime                  23\n",
       "Score Arrest                  0\n",
       "dtype: int64"
      ]
     },
     "execution_count": 7,
     "metadata": {},
     "output_type": "execute_result"
    }
   ],
   "source": [
    "dfCrime.nunique()"
   ]
  },
  {
   "cell_type": "code",
   "execution_count": 8,
   "metadata": {},
   "outputs": [],
   "source": [
    "dfZipCode = pd.read_json(\"../data/zcta5/TIGER2018_ZCTA5.json\", lines=True)"
   ]
  },
  {
   "cell_type": "code",
   "execution_count": 9,
   "metadata": {},
   "outputs": [],
   "source": [
    "dfZipCode.drop(columns=[\"ZCTA5CE10\", \"CLASSFP10\", \"MTFCC10\", \"FUNCSTAT10\"], inplace=True)\n",
    "dfZipCode[[\"GEOID10\", \"ALAND10\", \"AWATER10\"]] = dfZipCode[[\"GEOID10\", \"ALAND10\", \"AWATER10\"]].astype('Int32')\n",
    "dfZipCode['g'] = gpd.GeoSeries.from_wkt(dfZipCode['g'])\n",
    "dfZipCode = gpd.GeoDataFrame(dfZipCode, geometry='g')"
   ]
  },
  {
   "cell_type": "code",
   "execution_count": 10,
   "metadata": {},
   "outputs": [
    {
     "data": {
      "text/html": [
       "<div>\n",
       "<style scoped>\n",
       "    .dataframe tbody tr th:only-of-type {\n",
       "        vertical-align: middle;\n",
       "    }\n",
       "\n",
       "    .dataframe tbody tr th {\n",
       "        vertical-align: top;\n",
       "    }\n",
       "\n",
       "    .dataframe thead th {\n",
       "        text-align: right;\n",
       "    }\n",
       "</style>\n",
       "<table border=\"1\" class=\"dataframe\">\n",
       "  <thead>\n",
       "    <tr style=\"text-align: right;\">\n",
       "      <th></th>\n",
       "      <th>g</th>\n",
       "      <th>GEOID10</th>\n",
       "      <th>ALAND10</th>\n",
       "      <th>AWATER10</th>\n",
       "      <th>INTPTLAT10</th>\n",
       "      <th>INTPTLON10</th>\n",
       "    </tr>\n",
       "  </thead>\n",
       "  <tbody>\n",
       "    <tr>\n",
       "      <th>0</th>\n",
       "      <td>POLYGON ((-88.20610 41.74995, -88.20606 41.752...</td>\n",
       "      <td>60540</td>\n",
       "      <td>34212403</td>\n",
       "      <td>544116</td>\n",
       "      <td>41.764670</td>\n",
       "      <td>-88.145428</td>\n",
       "    </tr>\n",
       "    <tr>\n",
       "      <th>1</th>\n",
       "      <td>POLYGON ((-88.17978 41.83637, -88.17970 41.836...</td>\n",
       "      <td>60189</td>\n",
       "      <td>26452325</td>\n",
       "      <td>885699</td>\n",
       "      <td>41.840632</td>\n",
       "      <td>-88.122024</td>\n",
       "    </tr>\n",
       "    <tr>\n",
       "      <th>2</th>\n",
       "      <td>POLYGON ((-88.16752 41.72579, -88.16747 41.726...</td>\n",
       "      <td>60565</td>\n",
       "      <td>32161307</td>\n",
       "      <td>482552</td>\n",
       "      <td>41.730729</td>\n",
       "      <td>-88.124336</td>\n",
       "    </tr>\n",
       "    <tr>\n",
       "      <th>3</th>\n",
       "      <td>POLYGON ((-88.16364 41.62359, -88.16351 41.623...</td>\n",
       "      <td>60446</td>\n",
       "      <td>43301976</td>\n",
       "      <td>2034401</td>\n",
       "      <td>41.631698</td>\n",
       "      <td>-88.106903</td>\n",
       "    </tr>\n",
       "    <tr>\n",
       "      <th>4</th>\n",
       "      <td>MULTIPOLYGON (((-88.08942 41.61425, -88.08932 ...</td>\n",
       "      <td>60441</td>\n",
       "      <td>72613199</td>\n",
       "      <td>1531111</td>\n",
       "      <td>41.592639</td>\n",
       "      <td>-88.050043</td>\n",
       "    </tr>\n",
       "  </tbody>\n",
       "</table>\n",
       "</div>"
      ],
      "text/plain": [
       "                                                   g  GEOID10   ALAND10  \\\n",
       "0  POLYGON ((-88.20610 41.74995, -88.20606 41.752...    60540  34212403   \n",
       "1  POLYGON ((-88.17978 41.83637, -88.17970 41.836...    60189  26452325   \n",
       "2  POLYGON ((-88.16752 41.72579, -88.16747 41.726...    60565  32161307   \n",
       "3  POLYGON ((-88.16364 41.62359, -88.16351 41.623...    60446  43301976   \n",
       "4  MULTIPOLYGON (((-88.08942 41.61425, -88.08932 ...    60441  72613199   \n",
       "\n",
       "   AWATER10  INTPTLAT10  INTPTLON10  \n",
       "0    544116   41.764670  -88.145428  \n",
       "1    885699   41.840632  -88.122024  \n",
       "2    482552   41.730729  -88.124336  \n",
       "3   2034401   41.631698  -88.106903  \n",
       "4   1531111   41.592639  -88.050043  "
      ]
     },
     "execution_count": 10,
     "metadata": {},
     "output_type": "execute_result"
    }
   ],
   "source": [
    "dfZipCode.head()"
   ]
  },
  {
   "cell_type": "code",
   "execution_count": 11,
   "metadata": {},
   "outputs": [
    {
     "name": "stdout",
     "output_type": "stream",
     "text": [
      "<class 'geopandas.geodataframe.GeoDataFrame'>\n",
      "RangeIndex: 167 entries, 0 to 166\n",
      "Data columns (total 6 columns):\n",
      " #   Column      Non-Null Count  Dtype   \n",
      "---  ------      --------------  -----   \n",
      " 0   g           167 non-null    geometry\n",
      " 1   GEOID10     167 non-null    Int32   \n",
      " 2   ALAND10     167 non-null    Int32   \n",
      " 3   AWATER10    167 non-null    Int32   \n",
      " 4   INTPTLAT10  167 non-null    float64 \n",
      " 5   INTPTLON10  167 non-null    float64 \n",
      "dtypes: Int32(3), float64(2), geometry(1)\n",
      "memory usage: 6.5 KB\n"
     ]
    }
   ],
   "source": [
    "dfZipCode.info(memory_usage=\"deep\")"
   ]
  },
  {
   "cell_type": "code",
   "execution_count": 12,
   "metadata": {},
   "outputs": [
    {
     "data": {
      "text/html": [
       "<div>\n",
       "<style scoped>\n",
       "    .dataframe tbody tr th:only-of-type {\n",
       "        vertical-align: middle;\n",
       "    }\n",
       "\n",
       "    .dataframe tbody tr th {\n",
       "        vertical-align: top;\n",
       "    }\n",
       "\n",
       "    .dataframe thead th {\n",
       "        text-align: right;\n",
       "    }\n",
       "</style>\n",
       "<table border=\"1\" class=\"dataframe\">\n",
       "  <thead>\n",
       "    <tr style=\"text-align: right;\">\n",
       "      <th></th>\n",
       "      <th>GEOID10</th>\n",
       "      <th>ALAND10</th>\n",
       "      <th>AWATER10</th>\n",
       "      <th>INTPTLAT10</th>\n",
       "      <th>INTPTLON10</th>\n",
       "    </tr>\n",
       "  </thead>\n",
       "  <tbody>\n",
       "    <tr>\n",
       "      <th>count</th>\n",
       "      <td>167.000000</td>\n",
       "      <td>1.670000e+02</td>\n",
       "      <td>1.670000e+02</td>\n",
       "      <td>167.000000</td>\n",
       "      <td>167.000000</td>\n",
       "    </tr>\n",
       "    <tr>\n",
       "      <th>mean</th>\n",
       "      <td>59771.431138</td>\n",
       "      <td>1.627824e+07</td>\n",
       "      <td>5.952942e+05</td>\n",
       "      <td>41.838319</td>\n",
       "      <td>-87.787317</td>\n",
       "    </tr>\n",
       "    <tr>\n",
       "      <th>std</th>\n",
       "      <td>3026.114349</td>\n",
       "      <td>1.633139e+07</td>\n",
       "      <td>1.302942e+06</td>\n",
       "      <td>0.130454</td>\n",
       "      <td>0.180256</td>\n",
       "    </tr>\n",
       "    <tr>\n",
       "      <th>min</th>\n",
       "      <td>46304.000000</td>\n",
       "      <td>2.254770e+05</td>\n",
       "      <td>0.000000e+00</td>\n",
       "      <td>41.590820</td>\n",
       "      <td>-88.145428</td>\n",
       "    </tr>\n",
       "    <tr>\n",
       "      <th>25%</th>\n",
       "      <td>60172.500000</td>\n",
       "      <td>7.000086e+06</td>\n",
       "      <td>0.000000e+00</td>\n",
       "      <td>41.741223</td>\n",
       "      <td>-87.900872</td>\n",
       "    </tr>\n",
       "    <tr>\n",
       "      <th>50%</th>\n",
       "      <td>60491.000000</td>\n",
       "      <td>1.227981e+07</td>\n",
       "      <td>1.134700e+05</td>\n",
       "      <td>41.857903</td>\n",
       "      <td>-87.788946</td>\n",
       "    </tr>\n",
       "    <tr>\n",
       "      <th>75%</th>\n",
       "      <td>60622.500000</td>\n",
       "      <td>1.986572e+07</td>\n",
       "      <td>5.867145e+05</td>\n",
       "      <td>41.939528</td>\n",
       "      <td>-87.665181</td>\n",
       "    </tr>\n",
       "    <tr>\n",
       "      <th>max</th>\n",
       "      <td>60827.000000</td>\n",
       "      <td>1.388441e+08</td>\n",
       "      <td>9.157099e+06</td>\n",
       "      <td>42.069786</td>\n",
       "      <td>-87.046205</td>\n",
       "    </tr>\n",
       "  </tbody>\n",
       "</table>\n",
       "</div>"
      ],
      "text/plain": [
       "            GEOID10       ALAND10      AWATER10  INTPTLAT10  INTPTLON10\n",
       "count    167.000000  1.670000e+02  1.670000e+02  167.000000  167.000000\n",
       "mean   59771.431138  1.627824e+07  5.952942e+05   41.838319  -87.787317\n",
       "std     3026.114349  1.633139e+07  1.302942e+06    0.130454    0.180256\n",
       "min    46304.000000  2.254770e+05  0.000000e+00   41.590820  -88.145428\n",
       "25%    60172.500000  7.000086e+06  0.000000e+00   41.741223  -87.900872\n",
       "50%    60491.000000  1.227981e+07  1.134700e+05   41.857903  -87.788946\n",
       "75%    60622.500000  1.986572e+07  5.867145e+05   41.939528  -87.665181\n",
       "max    60827.000000  1.388441e+08  9.157099e+06   42.069786  -87.046205"
      ]
     },
     "execution_count": 12,
     "metadata": {},
     "output_type": "execute_result"
    }
   ],
   "source": [
    "dfZipCode.describe()"
   ]
  },
  {
   "cell_type": "code",
   "execution_count": 13,
   "metadata": {},
   "outputs": [
    {
     "data": {
      "text/plain": [
       "g             167\n",
       "GEOID10       167\n",
       "ALAND10       167\n",
       "AWATER10      115\n",
       "INTPTLAT10    167\n",
       "INTPTLON10    167\n",
       "dtype: int64"
      ]
     },
     "execution_count": 13,
     "metadata": {},
     "output_type": "execute_result"
    }
   ],
   "source": [
    "dfZipCode.nunique()"
   ]
  },
  {
   "cell_type": "markdown",
   "metadata": {},
   "source": [
    "---"
   ]
  },
  {
   "cell_type": "markdown",
   "metadata": {},
   "source": [
    "1. Which police district has the most crimes?\n",
    "\n",
    "    AsterixDB:\n",
    "    ```SQL\n",
    "    USE GeospatialAnalysis;\n",
    "\n",
    "    SELECT District, COUNT(1) AS NumberOfCrimes\n",
    "    FROM ChicagoCrimes\n",
    "    GROUP BY District\n",
    "    ORDER BY NumberOfCrimes DESC\n",
    "    LIMIT 1;\n",
    "    ```\n",
    "\n",
    "    Pandas:"
   ]
  },
  {
   "cell_type": "code",
   "execution_count": 14,
   "metadata": {},
   "outputs": [
    {
     "data": {
      "text/plain": [
       "District         8.0\n",
       "ID          479853.0\n",
       "Name: 7, dtype: float64"
      ]
     },
     "execution_count": 14,
     "metadata": {},
     "output_type": "execute_result"
    }
   ],
   "source": [
    "dfCrime.groupby(\"District\", as_index=False).size().sort_values(by=['size'], ascending=False)[['District', 'size']].iloc[0]"
   ]
  },
  {
   "cell_type": "markdown",
   "metadata": {},
   "source": [
    "2. Which police district has the most arrest percentage?\n",
    "\n",
    "    AsterixDB:\n",
    "    ```SQL\n",
    "    USE GeospatialAnalysis;\n",
    "\n",
    "    SELECT District, SUM(int32(boolean(Arrest)))/COUNT(1) AS PercentageOfArrests\n",
    "    FROM ChicagoCrimes\n",
    "    GROUP BY District\n",
    "    ORDER BY PercentageOfArrests DESC\n",
    "    LIMIT 1;\n",
    "    ```\n",
    "\n",
    "    Pandas:\n"
   ]
  },
  {
   "cell_type": "code",
   "execution_count": 15,
   "metadata": {},
   "outputs": [
    {
     "data": {
      "text/plain": [
       "District\n",
       "21.0    0.5\n",
       "Name: Arrest, dtype: Float64"
      ]
     },
     "execution_count": 15,
     "metadata": {},
     "output_type": "execute_result"
    }
   ],
   "source": [
    "district_group = dfCrime.groupby('District', as_index=True)\n",
    "(district_group['Arrest'].sum() / district_group['Arrest'].count()).sort_values(ascending=False).iloc[[0]]"
   ]
  },
  {
   "cell_type": "markdown",
   "metadata": {},
   "source": [
    "3. How many murder crimes happen on the street?\n",
    "\n",
    "    AsterixDB:\n",
    "    ```SQL\n",
    "    USE GeospatialAnalysis;\n",
    "\n",
    "    SELECT COUNT(1) AS NumberOfCrimesOnStreet\n",
    "    FROM ChicagoCrimes\n",
    "    WHERE `Location Description` = \"STREET\" AND `Primary Type` = \"HOMICIDE\";\n",
    "    ```\n",
    "\n",
    "    Pandas:\n"
   ]
  },
  {
   "cell_type": "code",
   "execution_count": 16,
   "metadata": {},
   "outputs": [
    {
     "data": {
      "text/plain": [
       "5118"
      ]
     },
     "execution_count": 16,
     "metadata": {},
     "output_type": "execute_result"
    }
   ],
   "source": [
    "dfCrime[(dfCrime['Primary Type'] == 'HOMICIDE') & (dfCrime['Location Description'] == 'STREET')].count()['ID']"
   ]
  },
  {
   "cell_type": "markdown",
   "metadata": {},
   "source": [
    "4. Where does murder crimes usually happen? (ZIP Code)\n",
    "\n",
    "    AsterixDB:\n",
    "    ```SQL\n",
    "    USE GeospatialAnalysis;\n",
    "\n",
    "    SELECT z.GEOID10, COUNT(1) AS NumberOfCrimes\n",
    "    FROM ChicagoCrimes c JOIN ZipCodes z ON st_contains(z.g, c.g)\n",
    "    GROUP BY z.`GEOID10`\n",
    "    ORDER BY NumberOfCrimes DESC\n",
    "    LIMIT 5;\n",
    "    ```\n",
    "\n",
    "    Pandas:"
   ]
  },
  {
   "cell_type": "code",
   "execution_count": 17,
   "metadata": {},
   "outputs": [
    {
     "data": {
      "text/html": [
       "<div>\n",
       "<style scoped>\n",
       "    .dataframe tbody tr th:only-of-type {\n",
       "        vertical-align: middle;\n",
       "    }\n",
       "\n",
       "    .dataframe tbody tr th {\n",
       "        vertical-align: top;\n",
       "    }\n",
       "\n",
       "    .dataframe thead th {\n",
       "        text-align: right;\n",
       "    }\n",
       "</style>\n",
       "<table border=\"1\" class=\"dataframe\">\n",
       "  <thead>\n",
       "    <tr style=\"text-align: right;\">\n",
       "      <th></th>\n",
       "      <th>GEOID10</th>\n",
       "      <th>size</th>\n",
       "    </tr>\n",
       "  </thead>\n",
       "  <tbody>\n",
       "    <tr>\n",
       "      <th>0</th>\n",
       "      <td>60628</td>\n",
       "      <td>307647</td>\n",
       "    </tr>\n",
       "    <tr>\n",
       "      <th>1</th>\n",
       "      <td>60620</td>\n",
       "      <td>303795</td>\n",
       "    </tr>\n",
       "    <tr>\n",
       "      <th>2</th>\n",
       "      <td>60624</td>\n",
       "      <td>269733</td>\n",
       "    </tr>\n",
       "    <tr>\n",
       "      <th>3</th>\n",
       "      <td>60644</td>\n",
       "      <td>267700</td>\n",
       "    </tr>\n",
       "    <tr>\n",
       "      <th>4</th>\n",
       "      <td>60619</td>\n",
       "      <td>265053</td>\n",
       "    </tr>\n",
       "  </tbody>\n",
       "</table>\n",
       "</div>"
      ],
      "text/plain": [
       "   GEOID10    size\n",
       "0    60628  307647\n",
       "1    60620  303795\n",
       "2    60624  269733\n",
       "3    60644  267700\n",
       "4    60619  265053"
      ]
     },
     "execution_count": 17,
     "metadata": {},
     "output_type": "execute_result"
    }
   ],
   "source": [
    "tmp = dfCrime.sjoin(dfZipCode, how='inner')\n",
    "tmp.groupby('GEOID10', as_index=False).size().sort_values(by='size', ascending=False).reset_index(drop=True).iloc[:5]"
   ]
  },
  {
   "cell_type": "markdown",
   "metadata": {},
   "source": [
    "5. Where does murder crimes usually happen? (Location Description)\n",
    "\n",
    "    AsterixDB:\n",
    "    ```SQL\n",
    "    USE GeospatialAnalysis;\n",
    "\n",
    "    SELECT `Location Description`, COUNT(1) AS NumberOfCrimes\n",
    "    FROM ChicagoCrimes\n",
    "    WHERE `Primary Type` = \"HOMICIDE\"\n",
    "    GROUP BY `Location Description`\n",
    "    ORDER BY `NumberOfCrimes` DESC;\n",
    "    LIMIT 5;\n",
    "    ```\n",
    "\n",
    "    Pandas:"
   ]
  },
  {
   "cell_type": "code",
   "execution_count": 19,
   "metadata": {},
   "outputs": [
    {
     "name": "stdout",
     "output_type": "stream",
     "text": [
      "    Location Description  size\n",
      "186               STREET  5118\n",
      "21                  AUTO  1193\n",
      "17             APARTMENT   886\n",
      "15                 ALLEY   660\n",
      "115                HOUSE   552\n"
     ]
    }
   ],
   "source": [
    "tmp_df = dfCrime[(dfCrime['Primary Type'] == 'HOMICIDE')].groupby('Location Description', as_index=False).size().sort_values(by=['size'], ascending=False).iloc[0:5]\n",
    "print(tmp_df)"
   ]
  },
  {
   "cell_type": "markdown",
   "metadata": {},
   "source": [
    "6. What is the time of day when murder and kidnapping happen the most?\n",
    "\n",
    "    AsterixDB:\n",
    "    ```SQL\n",
    "    USE GeospatialAnalysis;\n",
    "\n",
    "    SELECT CrimeHour, COUNT(1) AS NumberOfCrimes\n",
    "    FROM ChicagoCrimes\n",
    "    WHERE `Primary Type` = \"HOMICIDE\" OR `Primary Type` = \"KIDNAPPING\"\n",
    "    GROUP BY get_hour(parse_datetime(Date,\"M/D/Y h:m:s a\")) AS CrimeHour\n",
    "    ORDER BY NumberOfCrimes DESC\n",
    "    LIMIT 1;\n",
    "    ```\n",
    "\n",
    "    Pandas:\n"
   ]
  },
  {
   "cell_type": "code",
   "execution_count": 18,
   "metadata": {},
   "outputs": [
    {
     "name": "stdout",
     "output_type": "stream",
     "text": [
      "    Date  size\n",
      "18    18  1024\n"
     ]
    }
   ],
   "source": [
    "tmp_df = dfCrime[(dfCrime['Primary Type'] == 'HOMICIDE') | (dfCrime['Primary Type'] == 'KIDNAPPING')].groupby(dfCrime['Date'].dt.hour, as_index=False).size().sort_values(by=['size'], ascending=False).iloc[:1]\n",
    "print(tmp_df)"
   ]
  },
  {
   "cell_type": "markdown",
   "metadata": {},
   "source": [
    "7. What is the most common domestic crime?\n",
    "\n",
    "    AsterixDB:\n",
    "    ```SQL\n",
    "    USE GeospatialAnalysis;\n",
    "\n",
    "    SELECT `Primary Type`, COUNT(1) AS NumberOfCrimes\n",
    "    FROM ChicagoCrimes\n",
    "    WHERE `Domestic` = \"true\"\n",
    "    GROUP BY `Primary Type`\n",
    "    ORDER BY NumberOfCrimes DESC\n",
    "    LIMIT 1;\n",
    "    ```\n",
    "\n",
    "    Pandas:"
   ]
  },
  {
   "cell_type": "code",
   "execution_count": 20,
   "metadata": {},
   "outputs": [
    {
     "data": {
      "text/plain": [
       "Primary Type    BATTERY\n",
       "size             559295\n",
       "Name: 2, dtype: object"
      ]
     },
     "execution_count": 20,
     "metadata": {},
     "output_type": "execute_result"
    }
   ],
   "source": [
    "dfCrime[dfCrime['Domestic'] == 1].groupby('Primary Type', as_index=False).size().sort_values('size').iloc[-1]"
   ]
  },
  {
   "cell_type": "markdown",
   "metadata": {},
   "source": [
    "8. What is the percentage of domestic crimes that led to an arrest?\n",
    "\n",
    "    AsterixDB:\n",
    "    ```SQL\n",
    "    USE GeospatialAnalysis;\n",
    "\n",
    "    SELECT SUM(int32(boolean(Arrest)))/COUNT(1) AS PercentageOfArrests\n",
    "    FROM ChicagoCrimes\n",
    "    WHERE Domestic='true';\n",
    "    ```\n",
    "\n",
    "    Pandas:"
   ]
  },
  {
   "cell_type": "code",
   "execution_count": 21,
   "metadata": {},
   "outputs": [
    {
     "data": {
      "text/plain": [
       "0.19576129039064066"
      ]
     },
     "execution_count": 21,
     "metadata": {},
     "output_type": "execute_result"
    }
   ],
   "source": [
    "tmp_df = dfCrime[dfCrime['Domestic'] == 1]\n",
    "tmp_df['Arrest'].sum() / tmp_df['Arrest'].size"
   ]
  },
  {
   "cell_type": "markdown",
   "metadata": {},
   "source": [
    "9. Which day of week has the most domestic crimes?\n",
    "\n",
    "    AsterixDB:\n",
    "    ```SQL\n",
    "    USE GeospatialAnalysis;\n",
    "\n",
    "    SELECT Day, COUNT(1) AS NumberOfCrimes\n",
    "    FROM ChicagoCrimes\n",
    "    WHERE`Domestic` = 'true'\n",
    "    GROUP BY day_of_week(parse_datetime(Date,\"M/D/Y h:m:s a\")) AS Day\n",
    "    ORDER BY NumberOfCrimes DESC\n",
    "    LIMIT 1;\n",
    "    ```\n",
    "\n",
    "    Pandas:"
   ]
  },
  {
   "cell_type": "code",
   "execution_count": 22,
   "metadata": {},
   "outputs": [
    {
     "data": {
      "text/plain": [
       "160171"
      ]
     },
     "execution_count": 22,
     "metadata": {},
     "output_type": "execute_result"
    }
   ],
   "source": [
    "dfCrime[dfCrime['Domestic'] == 1].groupby(dfCrime['Date'].dt.dayofweek).size().sort_values().iloc[-1]"
   ]
  },
  {
   "cell_type": "markdown",
   "metadata": {},
   "source": [
    "10. What is the most common crime in each day of week?\n",
    "\n",
    "    AsterixDB:\n",
    "    ```SQL\n",
    "    USE GeospatialAnalysis;\n",
    "\n",
    "    WITH CrimesPerDay AS (\n",
    "      SELECT Day, `Primary Type`, COUNT(1) AS NumberOfCrimes\n",
    "      FROM ChicagoCrimes c\n",
    "      GROUP BY day_of_week(parse_datetime(Date,\"M/D/Y h:m:s a\")) AS Day, `Primary Type`\n",
    "    )\n",
    "\n",
    "    SELECT a.Day, a.`Primary Type`, a.NumberOfCrimes\n",
    "    FROM CrimesPerDay a INNER JOIN (\n",
    "        SELECT Day, MAX(NumberOfCrimes) AS NumberOfCrimes\n",
    "        FROM CrimesPerDay\n",
    "        GROUP BY Day\n",
    "    ) b ON a.Day = b.Day AND a.NumberOfCrimes = b.NumberOfCrimes\n",
    "    ORDER BY a.Day;\n",
    "    ```\n",
    "\n",
    "    Pandas:"
   ]
  },
  {
   "cell_type": "code",
   "execution_count": 23,
   "metadata": {},
   "outputs": [
    {
     "data": {
      "text/html": [
       "<div>\n",
       "<style scoped>\n",
       "    .dataframe tbody tr th:only-of-type {\n",
       "        vertical-align: middle;\n",
       "    }\n",
       "\n",
       "    .dataframe tbody tr th {\n",
       "        vertical-align: top;\n",
       "    }\n",
       "\n",
       "    .dataframe thead th {\n",
       "        text-align: right;\n",
       "    }\n",
       "</style>\n",
       "<table border=\"1\" class=\"dataframe\">\n",
       "  <thead>\n",
       "    <tr style=\"text-align: right;\">\n",
       "      <th></th>\n",
       "      <th>dayofweek</th>\n",
       "      <th>Primary Type</th>\n",
       "      <th>size</th>\n",
       "    </tr>\n",
       "  </thead>\n",
       "  <tbody>\n",
       "    <tr>\n",
       "      <th>2</th>\n",
       "      <td>0</td>\n",
       "      <td>BATTERY</td>\n",
       "      <td>214738</td>\n",
       "    </tr>\n",
       "    <tr>\n",
       "      <th>70</th>\n",
       "      <td>1</td>\n",
       "      <td>THEFT</td>\n",
       "      <td>216121</td>\n",
       "    </tr>\n",
       "    <tr>\n",
       "      <th>106</th>\n",
       "      <td>2</td>\n",
       "      <td>THEFT</td>\n",
       "      <td>216160</td>\n",
       "    </tr>\n",
       "    <tr>\n",
       "      <th>142</th>\n",
       "      <td>3</td>\n",
       "      <td>THEFT</td>\n",
       "      <td>217400</td>\n",
       "    </tr>\n",
       "    <tr>\n",
       "      <th>178</th>\n",
       "      <td>4</td>\n",
       "      <td>THEFT</td>\n",
       "      <td>214626</td>\n",
       "    </tr>\n",
       "    <tr>\n",
       "      <th>214</th>\n",
       "      <td>5</td>\n",
       "      <td>THEFT</td>\n",
       "      <td>231048</td>\n",
       "    </tr>\n",
       "    <tr>\n",
       "      <th>250</th>\n",
       "      <td>6</td>\n",
       "      <td>THEFT</td>\n",
       "      <td>211503</td>\n",
       "    </tr>\n",
       "  </tbody>\n",
       "</table>\n",
       "</div>"
      ],
      "text/plain": [
       "     dayofweek Primary Type    size\n",
       "2            0      BATTERY  214738\n",
       "70           1        THEFT  216121\n",
       "106          2        THEFT  216160\n",
       "142          3        THEFT  217400\n",
       "178          4        THEFT  214626\n",
       "214          5        THEFT  231048\n",
       "250          6        THEFT  211503"
      ]
     },
     "execution_count": 23,
     "metadata": {},
     "output_type": "execute_result"
    }
   ],
   "source": [
    "dfCrime['dayofweek'] = (dfCrime['Date'].dt.dayofweek+1)%7 # get day of week and make it start from sunday\n",
    "tmp = dfCrime.groupby(by=['dayofweek', 'Primary Type'], as_index=False).size()\n",
    "tmp[tmp.groupby('dayofweek')['size'].rank('dense', ascending=False) == 1]"
   ]
  },
  {
   "cell_type": "markdown",
   "metadata": {},
   "source": [
    "11. Which month generally has the greatest number of crimes?\n",
    "\n",
    "    AsterixDB:\n",
    "    ```SQL\n",
    "    USE GeospatialAnalysis;\n",
    "\n",
    "    SELECT Month, COUNT(1) AS NumberOfCrimes\n",
    "    FROM ChicagoCrimes\n",
    "    GROUP BY get_month(parse_datetime(Date,\"M/D/Y h:m:s a\")) AS Month\n",
    "    ORDER BY NumberOfCrimes DESC\n",
    "    LIMIT 1;\n",
    "    ```\n",
    "\n",
    "    Pandas:\n"
   ]
  },
  {
   "cell_type": "code",
   "execution_count": 24,
   "metadata": {},
   "outputs": [
    {
     "data": {
      "text/plain": [
       "month         7\n",
       "size     650441\n",
       "Name: 6, dtype: int64"
      ]
     },
     "execution_count": 24,
     "metadata": {},
     "output_type": "execute_result"
    }
   ],
   "source": [
    "dfCrime['month'] = dfCrime['Date'].dt.month\n",
    "dfCrime.groupby('month', as_index=False).size().sort_values('size').iloc[-1]"
   ]
  },
  {
   "cell_type": "markdown",
   "metadata": {},
   "source": [
    "12. What is the time of day when theft-related crimes happen the most?\n",
    "\n",
    "    AsterixDB:\n",
    "    ```SQL\n",
    "    USE GeospatialAnalysis;\n",
    "\n",
    "    SELECT CrimeHour, COUNT(1) AS NumberOfCrimes\n",
    "    FROM ChicagoCrimes\n",
    "    WHERE `Primary Type` = \"MOTOR VEHICLE THEFT\" OR\n",
    "        `Primary Type` = \"BURGLARY\" OR\n",
    "        `Primary Type` = \"ROBBERY\" OR\n",
    "        `Primary Type` = \"THEFT\"\n",
    "    GROUP BY get_hour(parse_datetime(Date,\"M/D/Y h:m:s a\")) AS CrimeHour\n",
    "    ORDER BY NumberOfCrimes DESC\n",
    "    LIMIT 1;\n",
    "    ```\n",
    "\n",
    "    Pandas:"
   ]
  },
  {
   "cell_type": "code",
   "execution_count": 25,
   "metadata": {},
   "outputs": [
    {
     "data": {
      "text/plain": [
       "hour        12\n",
       "size    151309\n",
       "Name: 12, dtype: int64"
      ]
     },
     "execution_count": 25,
     "metadata": {},
     "output_type": "execute_result"
    }
   ],
   "source": [
    "dfCrime['hour'] = dfCrime['Date'].dt.hour\n",
    "theftRelatedList = [\"MOTOR VEHICLE THEFT\", \"BURGLARY\", \"ROBBERY\", \"THEFT\"]\n",
    "dfCrime[\n",
    "    (dfCrime['Primary Type'] == \"MOTOR VEHICLE THEFT\") |\n",
    "    (dfCrime['Primary Type'] == \"BURGLARY\") |\n",
    "    (dfCrime['Primary Type'] == \"ROBBERY\") |\n",
    "    (dfCrime['Primary Type'] == \"THEFT\")\n",
    "    ].groupby('hour', as_index=False).size().sort_values('size').iloc[-1]"
   ]
  },
  {
   "cell_type": "markdown",
   "metadata": {},
   "source": [
    "13. What is the most common crime in each area?\n",
    "\n",
    "    AsterixDB\n",
    "    ```SQL\n",
    "    USE GeospatialAnalysis;\n",
    "\n",
    "    WITH CrimesPerZipCode AS (\n",
    "    SELECT z.GEOID10 AS `Zip Code`, c.`Primary Type`, COUNT(1) AS NumberOfCrimes\n",
    "    FROM ChicagoCrimes c JOIN ZipCodes z ON st_contains(z.g, c.g) = true\n",
    "    GROUP BY z.GEOID10, c.`Primary Type`\n",
    "    )\n",
    "\n",
    "    SELECT a.`Zip Code`, a.`Primary Type`, a.NumberOfCrimes\n",
    "    FROM CrimesPerZipCode a INNER JOIN (\n",
    "        SELECT `Zip Code`, MAX(NumberOfCrimes) AS NumberOfCrimes\n",
    "        FROM CrimesPerZipCode\n",
    "        GROUP BY `Zip Code`\n",
    "    ) b ON a.`Zip Code` = b.`Zip Code` AND a.NumberOfCrimes = b.NumberOfCrimes\n",
    "    ```\n",
    "\n",
    "    Pandas:"
   ]
  },
  {
   "cell_type": "code",
   "execution_count": 26,
   "metadata": {},
   "outputs": [
    {
     "data": {
      "text/html": [
       "<div>\n",
       "<style scoped>\n",
       "    .dataframe tbody tr th:only-of-type {\n",
       "        vertical-align: middle;\n",
       "    }\n",
       "\n",
       "    .dataframe tbody tr th {\n",
       "        vertical-align: top;\n",
       "    }\n",
       "\n",
       "    .dataframe thead th {\n",
       "        text-align: right;\n",
       "    }\n",
       "</style>\n",
       "<table border=\"1\" class=\"dataframe\">\n",
       "  <thead>\n",
       "    <tr style=\"text-align: right;\">\n",
       "      <th></th>\n",
       "      <th>GEOID10</th>\n",
       "      <th>Primary Type</th>\n",
       "      <th>size</th>\n",
       "    </tr>\n",
       "  </thead>\n",
       "  <tbody>\n",
       "    <tr>\n",
       "      <th>6</th>\n",
       "      <td>46320</td>\n",
       "      <td>CRIMINAL DAMAGE</td>\n",
       "      <td>9</td>\n",
       "    </tr>\n",
       "    <tr>\n",
       "      <th>37</th>\n",
       "      <td>60007</td>\n",
       "      <td>ASSAULT</td>\n",
       "      <td>1</td>\n",
       "    </tr>\n",
       "    <tr>\n",
       "      <th>106</th>\n",
       "      <td>60018</td>\n",
       "      <td>THEFT</td>\n",
       "      <td>8640</td>\n",
       "    </tr>\n",
       "    <tr>\n",
       "      <th>142</th>\n",
       "      <td>60068</td>\n",
       "      <td>THEFT</td>\n",
       "      <td>447</td>\n",
       "    </tr>\n",
       "    <tr>\n",
       "      <th>146</th>\n",
       "      <td>60076</td>\n",
       "      <td>BATTERY</td>\n",
       "      <td>4</td>\n",
       "    </tr>\n",
       "    <tr>\n",
       "      <th>...</th>\n",
       "      <td>...</td>\n",
       "      <td>...</td>\n",
       "      <td>...</td>\n",
       "    </tr>\n",
       "    <tr>\n",
       "      <th>2842</th>\n",
       "      <td>60714</td>\n",
       "      <td>THEFT</td>\n",
       "      <td>79</td>\n",
       "    </tr>\n",
       "    <tr>\n",
       "      <th>2846</th>\n",
       "      <td>60803</td>\n",
       "      <td>BATTERY</td>\n",
       "      <td>88</td>\n",
       "    </tr>\n",
       "    <tr>\n",
       "      <th>2914</th>\n",
       "      <td>60804</td>\n",
       "      <td>THEFT</td>\n",
       "      <td>202</td>\n",
       "    </tr>\n",
       "    <tr>\n",
       "      <th>2950</th>\n",
       "      <td>60805</td>\n",
       "      <td>THEFT</td>\n",
       "      <td>733</td>\n",
       "    </tr>\n",
       "    <tr>\n",
       "      <th>2954</th>\n",
       "      <td>60827</td>\n",
       "      <td>BATTERY</td>\n",
       "      <td>9072</td>\n",
       "    </tr>\n",
       "  </tbody>\n",
       "</table>\n",
       "<p>83 rows × 3 columns</p>\n",
       "</div>"
      ],
      "text/plain": [
       "      GEOID10     Primary Type  size\n",
       "6       46320  CRIMINAL DAMAGE     9\n",
       "37      60007          ASSAULT     1\n",
       "106     60018            THEFT  8640\n",
       "142     60068            THEFT   447\n",
       "146     60076          BATTERY     4\n",
       "...       ...              ...   ...\n",
       "2842    60714            THEFT    79\n",
       "2846    60803          BATTERY    88\n",
       "2914    60804            THEFT   202\n",
       "2950    60805            THEFT   733\n",
       "2954    60827          BATTERY  9072\n",
       "\n",
       "[83 rows x 3 columns]"
      ]
     },
     "execution_count": 26,
     "metadata": {},
     "output_type": "execute_result"
    }
   ],
   "source": [
    "joint_df = dfCrime.sjoin(dfZipCode, how='inner')\n",
    "tmp = joint_df.groupby(by=['GEOID10', 'Primary Type'], as_index=False).size()\n",
    "tmp[tmp.groupby('GEOID10')['size'].rank('first', ascending=False) == 1]"
   ]
  }
 ],
 "metadata": {
  "kernelspec": {
   "display_name": "Python 3.10.4 ('gsoc')",
   "language": "python",
   "name": "python3"
  },
  "language_info": {
   "codemirror_mode": {
    "name": "ipython",
    "version": 3
   },
   "file_extension": ".py",
   "mimetype": "text/x-python",
   "name": "python",
   "nbconvert_exporter": "python",
   "pygments_lexer": "ipython3",
   "version": "3.10.4"
  },
  "orig_nbformat": 4,
  "vscode": {
   "interpreter": {
    "hash": "122495c4063850a28ae774560ba5db19359a25c6781796f476c8a8f81f528aa5"
   }
  }
 },
 "nbformat": 4,
 "nbformat_minor": 2
}
