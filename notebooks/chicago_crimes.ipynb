{
 "cells": [
  {
   "cell_type": "markdown",
   "metadata": {},
   "source": [
    "# Data Analysis on Chicago Crimes Dataset\n",
    "\n",
    "First things first, we import all the modules that we are going to use."
   ]
  },
  {
   "cell_type": "code",
   "execution_count": 114,
   "metadata": {},
   "outputs": [],
   "source": [
    "import numpy as np\n",
    "import pandas as pd\n",
    "import geopandas as gpd\n",
    "import geoplot as gplt\n",
    "import geoplot.crs as gcrs\n",
    "import matplotlib.pyplot as plt\n",
    "\n",
    "%matplotlib inline"
   ]
  },
  {
   "cell_type": "markdown",
   "metadata": {},
   "source": [
    "Getting the number of lines in each dataset to get a sense of its size."
   ]
  },
  {
   "cell_type": "code",
   "execution_count": 2,
   "metadata": {},
   "outputs": [
    {
     "name": "stdout",
     "output_type": "stream",
     "text": [
      "Chicago Crimes dataset has 7,147,877 lines.\n",
      "ZCTA5 dataset has 33,144 lines.\n"
     ]
    }
   ],
   "source": [
    "import mmap\n",
    "\n",
    "def lines_mapcount(filename):\n",
    "    f = open(filename, \"r+\")\n",
    "    buf = mmap.mmap(f.fileno(), 0)\n",
    "    lines = 0\n",
    "    readline = buf.readline\n",
    "    while readline():\n",
    "        lines += 1\n",
    "    return lines\n",
    "\n",
    "print(f'Chicago Crimes dataset has {lines_mapcount(\"../data/chicagoCrimes/Chicago_Crimes.json\"):,} lines.')\n",
    "print(f'ZCTA5 dataset has {lines_mapcount(\"../data/zcta5/TIGER2018_ZCTA5.json\"):,} lines.')"
   ]
  },
  {
   "cell_type": "markdown",
   "metadata": {},
   "source": [
    "Loading the Pickle file and converting it into a GeoPandas DataFrame"
   ]
  },
  {
   "cell_type": "code",
   "execution_count": 2,
   "metadata": {},
   "outputs": [
    {
     "name": "stdout",
     "output_type": "stream",
     "text": [
      "Loading done!\n"
     ]
    }
   ],
   "source": [
    "file_name = \"../data/chicagoCrimes/Chicago_Crimes_cleaned.pkl\"\n",
    "dfCrime = pd.read_pickle(file_name)\n",
    "dfCrime = gpd.GeoDataFrame(dfCrime, geometry='g')\n",
    "print(\"Loading done!\")"
   ]
  },
  {
   "cell_type": "markdown",
   "metadata": {},
   "source": [
    "Here we take a look on the first 5 rows of the dataset."
   ]
  },
  {
   "cell_type": "code",
   "execution_count": 3,
   "metadata": {},
   "outputs": [
    {
     "data": {
      "text/html": [
       "<div>\n",
       "<style scoped>\n",
       "    .dataframe tbody tr th:only-of-type {\n",
       "        vertical-align: middle;\n",
       "    }\n",
       "\n",
       "    .dataframe tbody tr th {\n",
       "        vertical-align: top;\n",
       "    }\n",
       "\n",
       "    .dataframe thead th {\n",
       "        text-align: right;\n",
       "    }\n",
       "</style>\n",
       "<table border=\"1\" class=\"dataframe\">\n",
       "  <thead>\n",
       "    <tr style=\"text-align: right;\">\n",
       "      <th></th>\n",
       "      <th>g</th>\n",
       "      <th>ID</th>\n",
       "      <th>Date</th>\n",
       "      <th>Primary Type</th>\n",
       "      <th>Description</th>\n",
       "      <th>Location Description</th>\n",
       "      <th>Arrest</th>\n",
       "      <th>Domestic</th>\n",
       "      <th>District</th>\n",
       "      <th>FBI Code</th>\n",
       "      <th>Score Crime</th>\n",
       "      <th>Score Arrest</th>\n",
       "    </tr>\n",
       "  </thead>\n",
       "  <tbody>\n",
       "    <tr>\n",
       "      <th>0</th>\n",
       "      <td>POINT (-87.67920 41.96925)</td>\n",
       "      <td>9799787</td>\n",
       "      <td>2014-09-30 01:05:00</td>\n",
       "      <td>CRIMINAL TRESPASS</td>\n",
       "      <td>TO VEHICLE</td>\n",
       "      <td>STREET</td>\n",
       "      <td>1</td>\n",
       "      <td>0</td>\n",
       "      <td>20.0</td>\n",
       "      <td>26</td>\n",
       "      <td>1</td>\n",
       "      <td>&lt;NA&gt;</td>\n",
       "    </tr>\n",
       "    <tr>\n",
       "      <th>1</th>\n",
       "      <td>POINT (-87.67920 41.96930)</td>\n",
       "      <td>9933145</td>\n",
       "      <td>2015-01-20 15:30:00</td>\n",
       "      <td>CRIMINAL DAMAGE</td>\n",
       "      <td>TO PROPERTY</td>\n",
       "      <td>SMALL RETAIL STORE</td>\n",
       "      <td>0</td>\n",
       "      <td>0</td>\n",
       "      <td>20.0</td>\n",
       "      <td>14</td>\n",
       "      <td>13</td>\n",
       "      <td>&lt;NA&gt;</td>\n",
       "    </tr>\n",
       "    <tr>\n",
       "      <th>2</th>\n",
       "      <td>POINT (-87.67772 41.96947)</td>\n",
       "      <td>9936081</td>\n",
       "      <td>2015-01-21 11:00:00</td>\n",
       "      <td>CRIMINAL DAMAGE</td>\n",
       "      <td>TO PROPERTY</td>\n",
       "      <td>APARTMENT</td>\n",
       "      <td>0</td>\n",
       "      <td>0</td>\n",
       "      <td>20.0</td>\n",
       "      <td>14</td>\n",
       "      <td>13</td>\n",
       "      <td>&lt;NA&gt;</td>\n",
       "    </tr>\n",
       "    <tr>\n",
       "      <th>3</th>\n",
       "      <td>POINT (-87.67772 41.96947)</td>\n",
       "      <td>9833072</td>\n",
       "      <td>2014-10-25 12:00:00</td>\n",
       "      <td>CRIMINAL DAMAGE</td>\n",
       "      <td>TO VEHICLE</td>\n",
       "      <td>APARTMENT</td>\n",
       "      <td>0</td>\n",
       "      <td>0</td>\n",
       "      <td>20.0</td>\n",
       "      <td>14</td>\n",
       "      <td>13</td>\n",
       "      <td>&lt;NA&gt;</td>\n",
       "    </tr>\n",
       "    <tr>\n",
       "      <th>4</th>\n",
       "      <td>POINT (-87.67772 41.96949)</td>\n",
       "      <td>9822109</td>\n",
       "      <td>2014-10-17 08:30:00</td>\n",
       "      <td>THEFT</td>\n",
       "      <td>$500 AND UNDER</td>\n",
       "      <td>RESIDENTIAL YARD (FRONT/BACK)</td>\n",
       "      <td>0</td>\n",
       "      <td>0</td>\n",
       "      <td>20.0</td>\n",
       "      <td>06</td>\n",
       "      <td>21</td>\n",
       "      <td>&lt;NA&gt;</td>\n",
       "    </tr>\n",
       "  </tbody>\n",
       "</table>\n",
       "</div>"
      ],
      "text/plain": [
       "                            g       ID                Date       Primary Type  \\\n",
       "0  POINT (-87.67920 41.96925)  9799787 2014-09-30 01:05:00  CRIMINAL TRESPASS   \n",
       "1  POINT (-87.67920 41.96930)  9933145 2015-01-20 15:30:00    CRIMINAL DAMAGE   \n",
       "2  POINT (-87.67772 41.96947)  9936081 2015-01-21 11:00:00    CRIMINAL DAMAGE   \n",
       "3  POINT (-87.67772 41.96947)  9833072 2014-10-25 12:00:00    CRIMINAL DAMAGE   \n",
       "4  POINT (-87.67772 41.96949)  9822109 2014-10-17 08:30:00              THEFT   \n",
       "\n",
       "      Description           Location Description  Arrest  Domestic District  \\\n",
       "0      TO VEHICLE                         STREET       1         0     20.0   \n",
       "1     TO PROPERTY             SMALL RETAIL STORE       0         0     20.0   \n",
       "2     TO PROPERTY                      APARTMENT       0         0     20.0   \n",
       "3      TO VEHICLE                      APARTMENT       0         0     20.0   \n",
       "4  $500 AND UNDER  RESIDENTIAL YARD (FRONT/BACK)       0         0     20.0   \n",
       "\n",
       "  FBI Code  Score Crime  Score Arrest  \n",
       "0       26            1          <NA>  \n",
       "1       14           13          <NA>  \n",
       "2       14           13          <NA>  \n",
       "3       14           13          <NA>  \n",
       "4       06           21          <NA>  "
      ]
     },
     "execution_count": 3,
     "metadata": {},
     "output_type": "execute_result"
    }
   ],
   "source": [
    "dfCrime.head()"
   ]
  },
  {
   "cell_type": "markdown",
   "metadata": {},
   "source": [
    "Then we get general info of each column; like, the datatype, abd the non-null values count."
   ]
  },
  {
   "cell_type": "code",
   "execution_count": 4,
   "metadata": {},
   "outputs": [
    {
     "name": "stdout",
     "output_type": "stream",
     "text": [
      "<class 'geopandas.geodataframe.GeoDataFrame'>\n",
      "Int64Index: 7078918 entries, 0 to 7147876\n",
      "Data columns (total 12 columns):\n",
      " #   Column                Dtype         \n",
      "---  ------                -----         \n",
      " 0   g                     geometry      \n",
      " 1   ID                    Int32         \n",
      " 2   Date                  datetime64[ns]\n",
      " 3   Primary Type          category      \n",
      " 4   Description           category      \n",
      " 5   Location Description  category      \n",
      " 6   Arrest                Int8          \n",
      " 7   Domestic              Int8          \n",
      " 8   District              category      \n",
      " 9   FBI Code              category      \n",
      " 10  Score Crime           Int8          \n",
      " 11  Score Arrest          Int8          \n",
      "dtypes: Int32(1), Int8(4), category(5), datetime64[ns](1), geometry(1)\n",
      "memory usage: 297.1 MB\n"
     ]
    }
   ],
   "source": [
    "dfCrime.info(memory_usage=\"deep\")"
   ]
  },
  {
   "cell_type": "markdown",
   "metadata": {},
   "source": [
    "Then a quick descriptive statistics summary of numeric columns."
   ]
  },
  {
   "cell_type": "code",
   "execution_count": 5,
   "metadata": {},
   "outputs": [
    {
     "data": {
      "text/html": [
       "<div>\n",
       "<style scoped>\n",
       "    .dataframe tbody tr th:only-of-type {\n",
       "        vertical-align: middle;\n",
       "    }\n",
       "\n",
       "    .dataframe tbody tr th {\n",
       "        vertical-align: top;\n",
       "    }\n",
       "\n",
       "    .dataframe thead th {\n",
       "        text-align: right;\n",
       "    }\n",
       "</style>\n",
       "<table border=\"1\" class=\"dataframe\">\n",
       "  <thead>\n",
       "    <tr style=\"text-align: right;\">\n",
       "      <th></th>\n",
       "      <th>ID</th>\n",
       "      <th>Arrest</th>\n",
       "      <th>Domestic</th>\n",
       "      <th>Score Crime</th>\n",
       "      <th>Score Arrest</th>\n",
       "    </tr>\n",
       "  </thead>\n",
       "  <tbody>\n",
       "    <tr>\n",
       "      <th>count</th>\n",
       "      <td>7.078918e+06</td>\n",
       "      <td>7.078918e+06</td>\n",
       "      <td>7.078918e+06</td>\n",
       "      <td>7.078918e+06</td>\n",
       "      <td>0</td>\n",
       "    </tr>\n",
       "    <tr>\n",
       "      <th>mean</th>\n",
       "      <td>6.531848e+06</td>\n",
       "      <td>2.735994e-01</td>\n",
       "      <td>1.339089e-01</td>\n",
       "      <td>1.604244e+01</td>\n",
       "      <td>&lt;NA&gt;</td>\n",
       "    </tr>\n",
       "    <tr>\n",
       "      <th>std</th>\n",
       "      <td>3.214072e+06</td>\n",
       "      <td>4.458058e-01</td>\n",
       "      <td>3.405544e-01</td>\n",
       "      <td>6.778636e+00</td>\n",
       "      <td>&lt;NA&gt;</td>\n",
       "    </tr>\n",
       "    <tr>\n",
       "      <th>min</th>\n",
       "      <td>6.340000e+02</td>\n",
       "      <td>0.000000e+00</td>\n",
       "      <td>0.000000e+00</td>\n",
       "      <td>1.000000e+00</td>\n",
       "      <td>&lt;NA&gt;</td>\n",
       "    </tr>\n",
       "    <tr>\n",
       "      <th>25%</th>\n",
       "      <td>3.561036e+06</td>\n",
       "      <td>0.000000e+00</td>\n",
       "      <td>0.000000e+00</td>\n",
       "      <td>1.300000e+01</td>\n",
       "      <td>&lt;NA&gt;</td>\n",
       "    </tr>\n",
       "    <tr>\n",
       "      <th>50%</th>\n",
       "      <td>6.521622e+06</td>\n",
       "      <td>0.000000e+00</td>\n",
       "      <td>0.000000e+00</td>\n",
       "      <td>1.900000e+01</td>\n",
       "      <td>&lt;NA&gt;</td>\n",
       "    </tr>\n",
       "    <tr>\n",
       "      <th>75%</th>\n",
       "      <td>9.310905e+06</td>\n",
       "      <td>1.000000e+00</td>\n",
       "      <td>0.000000e+00</td>\n",
       "      <td>2.100000e+01</td>\n",
       "      <td>&lt;NA&gt;</td>\n",
       "    </tr>\n",
       "    <tr>\n",
       "      <th>max</th>\n",
       "      <td>1.209505e+07</td>\n",
       "      <td>1.000000e+00</td>\n",
       "      <td>1.000000e+00</td>\n",
       "      <td>2.600000e+01</td>\n",
       "      <td>&lt;NA&gt;</td>\n",
       "    </tr>\n",
       "  </tbody>\n",
       "</table>\n",
       "</div>"
      ],
      "text/plain": [
       "                 ID        Arrest      Domestic   Score Crime Score Arrest\n",
       "count  7.078918e+06  7.078918e+06  7.078918e+06  7.078918e+06            0\n",
       "mean   6.531848e+06  2.735994e-01  1.339089e-01  1.604244e+01         <NA>\n",
       "std    3.214072e+06  4.458058e-01  3.405544e-01  6.778636e+00         <NA>\n",
       "min    6.340000e+02  0.000000e+00  0.000000e+00  1.000000e+00         <NA>\n",
       "25%    3.561036e+06  0.000000e+00  0.000000e+00  1.300000e+01         <NA>\n",
       "50%    6.521622e+06  0.000000e+00  0.000000e+00  1.900000e+01         <NA>\n",
       "75%    9.310905e+06  1.000000e+00  0.000000e+00  2.100000e+01         <NA>\n",
       "max    1.209505e+07  1.000000e+00  1.000000e+00  2.600000e+01         <NA>"
      ]
     },
     "execution_count": 5,
     "metadata": {},
     "output_type": "execute_result"
    }
   ],
   "source": [
    "dfCrime.describe()"
   ]
  },
  {
   "cell_type": "markdown",
   "metadata": {},
   "source": [
    "Then a quick overview of the number of unique values in each column."
   ]
  },
  {
   "cell_type": "code",
   "execution_count": 6,
   "metadata": {},
   "outputs": [
    {
     "data": {
      "text/plain": [
       "g                        872127\n",
       "ID                      7078918\n",
       "Date                    2882091\n",
       "Primary Type                 36\n",
       "Description                 522\n",
       "Location Description        212\n",
       "Arrest                        2\n",
       "Domestic                      2\n",
       "District                     24\n",
       "FBI Code                     26\n",
       "Score Crime                  23\n",
       "Score Arrest                  0\n",
       "dtype: int64"
      ]
     },
     "execution_count": 6,
     "metadata": {},
     "output_type": "execute_result"
    }
   ],
   "source": [
    "dfCrime.nunique()"
   ]
  },
  {
   "cell_type": "markdown",
   "metadata": {},
   "source": [
    "---"
   ]
  },
  {
   "cell_type": "markdown",
   "metadata": {},
   "source": [
    "1. Which police district has the most crimes?"
   ]
  },
  {
   "cell_type": "code",
   "execution_count": 24,
   "metadata": {},
   "outputs": [
    {
     "data": {
      "text/plain": [
       "District         8.0\n",
       "ID          479853.0\n",
       "Name: 7, dtype: float64"
      ]
     },
     "execution_count": 24,
     "metadata": {},
     "output_type": "execute_result"
    }
   ],
   "source": [
    "dfCrime.groupby(\"District\", as_index=False).count().sort_values(by=['ID'], ascending=False)[['District', 'ID']].iloc[0]"
   ]
  },
  {
   "cell_type": "markdown",
   "metadata": {},
   "source": [
    "2. Which police district has the most arrest percentage?\n"
   ]
  },
  {
   "cell_type": "code",
   "execution_count": 40,
   "metadata": {},
   "outputs": [
    {
     "data": {
      "text/plain": [
       "District\n",
       "21.0    0.5\n",
       "Name: Arrest, dtype: Float64"
      ]
     },
     "execution_count": 40,
     "metadata": {},
     "output_type": "execute_result"
    }
   ],
   "source": [
    "district_group = dfCrime.groupby('District', as_index=True)\n",
    "(district_group['Arrest'].sum() / district_group['Arrest'].count()).sort_values(ascending=False).iloc[[0]]"
   ]
  },
  {
   "cell_type": "markdown",
   "metadata": {},
   "source": [
    "3. How many murder crimes happen on the street?\n"
   ]
  },
  {
   "cell_type": "code",
   "execution_count": 81,
   "metadata": {},
   "outputs": [
    {
     "data": {
      "text/plain": [
       "5118"
      ]
     },
     "execution_count": 81,
     "metadata": {},
     "output_type": "execute_result"
    }
   ],
   "source": [
    "dfCrime[(dfCrime['Primary Type'] == 'HOMICIDE') & (dfCrime['Location Description'] == 'STREET')].count()['ID']"
   ]
  },
  {
   "cell_type": "markdown",
   "metadata": {},
   "source": [
    "4. Where does murder crimes usually happen? (ZIP Code)"
   ]
  },
  {
   "cell_type": "code",
   "execution_count": null,
   "metadata": {},
   "outputs": [],
   "source": []
  },
  {
   "cell_type": "markdown",
   "metadata": {},
   "source": [
    "5. What is the time of day when murder and kidnapping happen the most?\n"
   ]
  },
  {
   "cell_type": "code",
   "execution_count": 77,
   "metadata": {},
   "outputs": [
    {
     "name": "stdout",
     "output_type": "stream",
     "text": [
      "    Date  size\n",
      "18    18  1024\n"
     ]
    }
   ],
   "source": [
    "tmp_df = dfCrime[(dfCrime['Primary Type'] == 'HOMICIDE') | (dfCrime['Primary Type'] == 'KIDNAPPING')].groupby(dfCrime['Date'].dt.hour, as_index=False).size().sort_values(by=['size'], ascending=False).iloc[:1]\n",
    "print(tmp_df)"
   ]
  },
  {
   "cell_type": "markdown",
   "metadata": {},
   "source": [
    "6. What is the \"location description\" (street, sideway, appartment, etc..) where murderS happen the most?"
   ]
  },
  {
   "cell_type": "code",
   "execution_count": 75,
   "metadata": {},
   "outputs": [
    {
     "name": "stdout",
     "output_type": "stream",
     "text": [
      "    Location Description  size\n",
      "186               STREET  5118\n",
      "21                  AUTO  1193\n",
      "17             APARTMENT   886\n",
      "15                 ALLEY   660\n",
      "115                HOUSE   552\n"
     ]
    }
   ],
   "source": [
    "tmp_df = dfCrime[(dfCrime['Primary Type'] == 'HOMICIDE')].groupby('Location Description', as_index=False).size().sort_values(by=['size'], ascending=False).iloc[0:5]\n",
    "print(tmp_df)"
   ]
  },
  {
   "cell_type": "markdown",
   "metadata": {},
   "source": [
    "7. What is the most common domestic crime?"
   ]
  },
  {
   "cell_type": "code",
   "execution_count": 85,
   "metadata": {},
   "outputs": [
    {
     "data": {
      "text/plain": [
       "Primary Type    BATTERY\n",
       "size             559295\n",
       "Name: 2, dtype: object"
      ]
     },
     "execution_count": 85,
     "metadata": {},
     "output_type": "execute_result"
    }
   ],
   "source": [
    "dfCrime[dfCrime['Domestic'] == 1].groupby('Primary Type', as_index=False).size().sort_values('size').iloc[-1]"
   ]
  },
  {
   "cell_type": "markdown",
   "metadata": {},
   "source": [
    "8. What is the percentage of domestic crimes that led to an arrest?\n"
   ]
  },
  {
   "cell_type": "code",
   "execution_count": 86,
   "metadata": {},
   "outputs": [
    {
     "data": {
      "text/plain": [
       "0.19576129039064066"
      ]
     },
     "execution_count": 86,
     "metadata": {},
     "output_type": "execute_result"
    }
   ],
   "source": [
    "tmp_df = dfCrime[dfCrime['Domestic'] == 1]\n",
    "tmp_df['Arrest'].sum() / tmp_df['Arrest'].size"
   ]
  },
  {
   "cell_type": "markdown",
   "metadata": {},
   "source": [
    "9. Which day of week has the most domestic crimes?"
   ]
  },
  {
   "cell_type": "code",
   "execution_count": 98,
   "metadata": {},
   "outputs": [
    {
     "data": {
      "text/plain": [
       "160171"
      ]
     },
     "execution_count": 98,
     "metadata": {},
     "output_type": "execute_result"
    }
   ],
   "source": [
    "dfCrime[dfCrime['Domestic'] == 1].groupby(dfCrime['Date'].dt.dayofweek).size().sort_values().iloc[-1]"
   ]
  },
  {
   "cell_type": "markdown",
   "metadata": {},
   "source": [
    "10. What is the most common crime in each day of week?"
   ]
  },
  {
   "cell_type": "code",
   "execution_count": null,
   "metadata": {},
   "outputs": [],
   "source": []
  },
  {
   "cell_type": "markdown",
   "metadata": {},
   "source": [
    "11. Which month generally has the greatest number of crimes?"
   ]
  },
  {
   "cell_type": "code",
   "execution_count": 136,
   "metadata": {},
   "outputs": [
    {
     "data": {
      "text/plain": [
       "month         7\n",
       "size     650441\n",
       "Name: 6, dtype: int64"
      ]
     },
     "execution_count": 136,
     "metadata": {},
     "output_type": "execute_result"
    }
   ],
   "source": [
    "dfCrime['month'] = dfCrime['Date'].dt.month\n",
    "dfCrime.groupby('month', as_index=False).size().sort_values('size').iloc[-1]"
   ]
  },
  {
   "cell_type": "markdown",
   "metadata": {},
   "source": [
    "12. What is the time of day when theft-related crimes happen the most?"
   ]
  },
  {
   "cell_type": "code",
   "execution_count": 139,
   "metadata": {},
   "outputs": [
    {
     "data": {
      "text/plain": [
       "hour        12\n",
       "size    151309\n",
       "Name: 12, dtype: int64"
      ]
     },
     "execution_count": 139,
     "metadata": {},
     "output_type": "execute_result"
    }
   ],
   "source": [
    "dfCrime['hour'] = dfCrime['Date'].dt.hour\n",
    "theftRelatedList = [\"MOTOR VEHICLE THEFT\", \"BURGLARY\", \"ROBBERY\", \"THEFT\"]\n",
    "dfCrime[\n",
    "    (dfCrime['Primary Type'] == \"MOTOR VEHICLE THEFT\") |\n",
    "    (dfCrime['Primary Type'] == \"BURGLARY\") |\n",
    "    (dfCrime['Primary Type'] == \"ROBBERY\") |\n",
    "    (dfCrime['Primary Type'] == \"THEFT\")\n",
    "    ].groupby('hour', as_index=False).size().sort_values('size').iloc[-1]"
   ]
  },
  {
   "cell_type": "code",
   "execution_count": null,
   "metadata": {},
   "outputs": [],
   "source": []
  }
 ],
 "metadata": {
  "kernelspec": {
   "display_name": "Python 3.10.4 ('gsoc')",
   "language": "python",
   "name": "python3"
  },
  "language_info": {
   "codemirror_mode": {
    "name": "ipython",
    "version": 3
   },
   "file_extension": ".py",
   "mimetype": "text/x-python",
   "name": "python",
   "nbconvert_exporter": "python",
   "pygments_lexer": "ipython3",
   "version": "3.10.4"
  },
  "orig_nbformat": 4,
  "vscode": {
   "interpreter": {
    "hash": "122495c4063850a28ae774560ba5db19359a25c6781796f476c8a8f81f528aa5"
   }
  }
 },
 "nbformat": 4,
 "nbformat_minor": 2
}
